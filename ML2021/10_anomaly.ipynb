{
  "nbformat": 4,
  "nbformat_minor": 0,
  "metadata": {
    "colab": {
      "name": "10-anomaly.ipynb",
      "provenance": []
    },
    "kernelspec": {
      "name": "python3",
      "display_name": "Python 3"
    },
    "language_info": {
      "name": "python"
    }
  },
  "cells": [
    {
      "cell_type": "markdown",
      "source": [
        "## Anomaly detection\n",
        "\n",
        "### Prepare and display the data"
      ],
      "metadata": {
        "id": "wxOguQocDodF"
      }
    },
    {
      "cell_type": "code",
      "execution_count": 6,
      "metadata": {
        "id": "W_zrwdllEGr0",
        "colab": {
          "base_uri": "https://localhost:8080/"
        },
        "outputId": "e14876b9-8218-4916-8cd8-86673b107a5d"
      },
      "outputs": [
        {
          "output_type": "execute_result",
          "data": {
            "text/plain": [
              "(307, 2)"
            ]
          },
          "metadata": {},
          "execution_count": 6
        }
      ],
      "source": [
        "import numpy as np  \n",
        "import pandas as pd\n",
        "import matplotlib.pyplot as plt\n",
        "from scipy.io import loadmat\n",
        "\n",
        "data = loadmat('./ex8data1.mat')  \n",
        "\n",
        "X = data[\"X\"]\n",
        "\n",
        "X.shape"
      ]
    },
    {
      "cell_type": "code",
      "source": [
        "plt.scatter(X[:,0], X[:,1])\n",
        "plt.grid()\n",
        "plt.xlabel('latency')\n",
        "plt.ylabel('throughput')\n",
        "plt.show()"
      ],
      "metadata": {
        "colab": {
          "base_uri": "https://localhost:8080/",
          "height": 280
        },
        "id": "ErSp3npkDvvd",
        "outputId": "75a78f13-2f10-440e-88a9-8b6702b48abb"
      },
      "execution_count": 2,
      "outputs": [
        {
          "output_type": "display_data",
          "data": {
            "image/png": "[encoded data removed]",
            "text/plain": [
              "<Figure size 432x288 with 1 Axes>"
            ]
          },
          "metadata": {
            "needs_background": "light"
          }
        }
      ]
    },
    {
      "cell_type": "code",
      "source": [
        "plt.figure(figsize=(9,5))\n",
        "plt.subplot(1,2,1)\n",
        "plt.hist(X[:,0], bins = 15)\n",
        "plt.title('hist 1')\n",
        "\n",
        "plt.subplot(1,2,2)\n",
        "plt.hist(X[:,1], bins = 15, color=\"red\")\n",
        "plt.title('hist 2')\n",
        "plt.show()"
      ],
      "metadata": {
        "colab": {
          "base_uri": "https://localhost:8080/",
          "height": 336
        },
        "id": "sKSjmqCyDzm0",
        "outputId": "fd8cc790-b983-46f3-8f9d-0153528737fa"
      },
      "execution_count": 8,
      "outputs": [
        {
          "output_type": "display_data",
          "data": {
            "image/png": "[encoded data removed]",
            "text/plain": [
              "<Figure size 648x360 with 2 Axes>"
            ]
          },
          "metadata": {
            "needs_background": "light"
          }
        }
      ]
    },
    {
      "cell_type": "markdown",
      "source": [
        "### Gaussian distribution"
      ],
      "metadata": {
        "id": "P9x_oZgREkCY"
      }
    },
    {
      "cell_type": "code",
      "source": [
        "def estimate_gaussian(X):  \n",
        "    mu = np.zeros((X_data_amount[1], 1))\n",
        "    sigma2 = np.zeros((X_data_amount[1], 1))\n",
        "    \n",
        "    mu = np.mean(X.T, axis=1)\n",
        "    mu = mu.reshape(mu.shape[0], -1)\n",
        "    sigma2 = np.var(X.T, axis=1)\n",
        "    sigma2 = sigma2.reshape(sigma2.shape[0], -1)\n",
        "\n",
        "    return mu.tolist(), sigma2.tolist()\n",
        "\n",
        "\n",
        "mu, sigma = estimate_gaussian(X)\n",
        "mu, sigma"
      ],
      "metadata": {
        "colab": {
          "base_uri": "https://localhost:8080/"
        },
        "id": "k1FSM7YKEh1q",
        "outputId": "bfa9041a-d675-4417-9240-ee5ffd10822b"
      },
      "execution_count": 9,
      "outputs": [
        {
          "output_type": "execute_result",
          "data": {
            "text/plain": [
              "([[14.112225783945592], [14.99771050813621]],\n",
              " [[1.8326314134945172], [1.7097453308287784]])"
            ]
          },
          "metadata": {},
          "execution_count": 9
        }
      ]
    },
    {
      "cell_type": "code",
      "source": [
        "Xval = data[\"Xval\"]\n",
        "yval = data[\"yval\"]\n",
        "\n",
        "Xval.shape"
      ],
      "metadata": {
        "colab": {
          "base_uri": "https://localhost:8080/"
        },
        "id": "YBZvwwZ_E_Br",
        "outputId": "4dc8978c-1d81-4828-aebc-ebe729065590"
      },
      "execution_count": 10,
      "outputs": [
        {
          "output_type": "execute_result",
          "data": {
            "text/plain": [
              "(307, 2)"
            ]
          },
          "metadata": {},
          "execution_count": 10
        }
      ]
    },
    {
      "cell_type": "code",
      "source": [
        "yval.shape"
      ],
      "metadata": {
        "colab": {
          "base_uri": "https://localhost:8080/"
        },
        "id": "ZTe_c1EuFFNg",
        "outputId": "5d402a98-086b-4f49-b063-3c840ab39606"
      },
      "execution_count": 11,
      "outputs": [
        {
          "output_type": "execute_result",
          "data": {
            "text/plain": [
              "(307, 1)"
            ]
          },
          "metadata": {},
          "execution_count": 11
        }
      ]
    },
    {
      "cell_type": "code",
      "source": [
        "from scipy import stats\n",
        "\n",
        "p = np.zeros((X.shape[0], X.shape[1]))\n",
        "pval = np.zeros((Xval.shape[0], Xval.shape[1]))\n",
        "p[:, 0] = stats.norm.pdf(X[:, 0], mu[0], np.sqrt(sigma[0]))\n",
        "p[:, 1] = stats.norm.pdf(X[:, 1], mu[1], np.sqrt(sigma[1]))\n",
        "pval[:, 0] = stats.norm.pdf(Xval[:, 0], mu[0], np.sqrt(sigma[0]))\n",
        "pval[:, 1] = stats.norm.pdf(Xval[:, 1], mu[1], np.sqrt(sigma[1]))"
      ],
      "metadata": {
        "id": "pVvK4u7aE5Wd"
      },
      "execution_count": 12,
      "outputs": []
    },
    {
      "cell_type": "markdown",
      "source": [
        "### Selecting the threshold"
      ],
      "metadata": {
        "id": "HOOiV2G8FOUP"
      }
    },
    {
      "cell_type": "code",
      "source": [
        "from sklearn.metrics import f1_score \n",
        "\n",
        "def select_threshold(pval, yval):\n",
        "    thresholds = np.linspace(pval.min(), pval.max(), 1000)\n",
        "    best_f1 = 0\n",
        "\n",
        "    for th in thresholds:\n",
        "        ypred = (pval[:, 0] < th) | (pval[:, 1] < th)\n",
        "        new = f1_score(yval, ypred.astype(int))\n",
        "        if new > best_f1:\n",
        "            best_f1 = new\n",
        "            best_epsilon = th\n",
        "    return best_epsilon, best_f1\n",
        "\n",
        "best_epsilon, best_f1 = select_threshold(pval, yval)\n",
        "best_epsilon, best_f1"
      ],
      "metadata": {
        "colab": {
          "base_uri": "https://localhost:8080/"
        },
        "id": "dElYPXbhFM28",
        "outputId": "df7563c3-9686-4273-dbc7-ea8ff7e69594"
      },
      "execution_count": 14,
      "outputs": [
        {
          "output_type": "execute_result",
          "data": {
            "text/plain": [
              "(0.0006108136634440508, 0.8750000000000001)"
            ]
          },
          "metadata": {},
          "execution_count": 14
        }
      ]
    },
    {
      "cell_type": "markdown",
      "source": [
        "### Anomaly detection result"
      ],
      "metadata": {
        "id": "EB12aLzlFia3"
      }
    },
    {
      "cell_type": "code",
      "source": [
        "indexes = np.where((p[:, 0] < best_epsilon) | (p[:, 1] < best_epsilon))\n",
        "anomalies = [X[i] for i in indexes][0]"
      ],
      "metadata": {
        "id": "YMDbC9tSFiw4"
      },
      "execution_count": 15,
      "outputs": []
    },
    {
      "cell_type": "code",
      "source": [
        "plt.figure(figsize=(9,5))\n",
        "plt.scatter(X[:,0], X[:,1])\n",
        "plt.scatter(anomalies[:,0], anomalies[:,1], color=\"red\")\n",
        "plt.grid()\n",
        "plt.legend([\"Regular Values\", \"Detected Anomalies\"])\n",
        "plt.show()"
      ],
      "metadata": {
        "colab": {
          "base_uri": "https://localhost:8080/",
          "height": 320
        },
        "id": "aViYBKhqF2u0",
        "outputId": "3e57d45a-5591-4e2e-a5cd-5b0c9204faca"
      },
      "execution_count": 17,
      "outputs": [
        {
          "output_type": "display_data",
          "data": {
            "image/png": "[encoded data removed]",
            "text/plain": [
              "<Figure size 648x360 with 1 Axes>"
            ]
          },
          "metadata": {
            "needs_background": "light"
          }
        }
      ]
    }
  ]
}