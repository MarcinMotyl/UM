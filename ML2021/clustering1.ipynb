{
  "nbformat": 4,
  "nbformat_minor": 0,
  "metadata": {
    "colab": {
      "name": "6-clustering1.ipynb",
      "provenance": [],
      "collapsed_sections": []
    },
    "kernelspec": {
      "name": "python3",
      "display_name": "Python 3"
    },
    "language_info": {
      "name": "python"
    }
  },
  "cells": [
    {
      "cell_type": "markdown",
      "metadata": {
        "id": "U9VrUT402kQj"
      },
      "source": [
        "### K-means clustering - example 1"
      ]
    },
    {
      "cell_type": "markdown",
      "metadata": {
        "id": "IENE96Pe56K4"
      },
      "source": [
        "Ex.1 Please analyse the function parameters and generated output."
      ]
    },
    {
      "cell_type": "code",
      "metadata": {
        "colab": {
          "base_uri": "https://localhost:8080/"
        },
        "id": "PY-RB2Qt2XTc",
        "outputId": "1522c504-c78c-4b93-ad28-98cc2d4d32e4"
      },
      "source": [
        "from sklearn.datasets import make_blobs \n",
        " \n",
        "help(make_blobs)"
      ],
      "execution_count": 1,
      "outputs": [
        {
          "output_type": "stream",
          "name": "stdout",
          "text": [
            "Help on function make_blobs in module sklearn.datasets._samples_generator:\n",
            "\n",
            "make_blobs(n_samples=100, n_features=2, *, centers=None, cluster_std=1.0, center_box=(-10.0, 10.0), shuffle=True, random_state=None, return_centers=False)\n",
            "    Generate isotropic Gaussian blobs for clustering.\n",
            "    \n",
            "    Read more in the :ref:`User Guide <sample_generators>`.\n",
            "    \n",
            "    Parameters\n",
            "    ----------\n",
            "    n_samples : int or array-like, default=100\n",
            "        If int, it is the total number of points equally divided among\n",
            "        clusters.\n",
            "        If array-like, each element of the sequence indicates\n",
            "        the number of samples per cluster.\n",
            "    \n",
            "        .. versionchanged:: v0.20\n",
            "            one can now pass an array-like to the ``n_samples`` parameter\n",
            "    \n",
            "    n_features : int, default=2\n",
            "        The number of features for each sample.\n",
            "    \n",
            "    centers : int or ndarray of shape (n_centers, n_features), default=None\n",
            "        The number of centers to generate, or the fixed center locations.\n",
            "        If n_samples is an int and centers is None, 3 centers are generated.\n",
            "        If n_samples is array-like, centers must be\n",
            "        either None or an array of length equal to the length of n_samples.\n",
            "    \n",
            "    cluster_std : float or array-like of float, default=1.0\n",
            "        The standard deviation of the clusters.\n",
            "    \n",
            "    center_box : tuple of float (min, max), default=(-10.0, 10.0)\n",
            "        The bounding box for each cluster center when centers are\n",
            "        generated at random.\n",
            "    \n",
            "    shuffle : bool, default=True\n",
            "        Shuffle the samples.\n",
            "    \n",
            "    random_state : int, RandomState instance or None, default=None\n",
            "        Determines random number generation for dataset creation. Pass an int\n",
            "        for reproducible output across multiple function calls.\n",
            "        See :term:`Glossary <random_state>`.\n",
            "    \n",
            "    return_centers : bool, default=False\n",
            "        If True, then return the centers of each cluster\n",
            "    \n",
            "        .. versionadded:: 0.23\n",
            "    \n",
            "    Returns\n",
            "    -------\n",
            "    X : ndarray of shape (n_samples, n_features)\n",
            "        The generated samples.\n",
            "    \n",
            "    y : ndarray of shape (n_samples,)\n",
            "        The integer labels for cluster membership of each sample.\n",
            "    \n",
            "    centers : ndarray of shape (n_centers, n_features)\n",
            "        The centers of each cluster. Only returned if\n",
            "        ``return_centers=True``.\n",
            "    \n",
            "    Examples\n",
            "    --------\n",
            "    >>> from sklearn.datasets import make_blobs\n",
            "    >>> X, y = make_blobs(n_samples=10, centers=3, n_features=2,\n",
            "    ...                   random_state=0)\n",
            "    >>> print(X.shape)\n",
            "    (10, 2)\n",
            "    >>> y\n",
            "    array([0, 0, 1, 0, 2, 2, 2, 1, 1, 0])\n",
            "    >>> X, y = make_blobs(n_samples=[3, 3, 4], centers=None, n_features=2,\n",
            "    ...                   random_state=0)\n",
            "    >>> print(X.shape)\n",
            "    (10, 2)\n",
            "    >>> y\n",
            "    array([0, 1, 2, 0, 2, 2, 2, 1, 1, 0])\n",
            "    \n",
            "    See Also\n",
            "    --------\n",
            "    make_classification : A more intricate variant.\n",
            "\n"
          ]
        }
      ]
    },
    {
      "cell_type": "markdown",
      "metadata": {
        "id": "oxFYnDSd5YDl"
      },
      "source": [
        "Ex.2 Please call make_blob and generate a dataset with 120 samples, 2 features, 4 centres (clusters), and cluster_std=0.40."
      ]
    },
    {
      "cell_type": "code",
      "metadata": {
        "id": "3wFYHBdG2n3H"
      },
      "source": [
        "X, y = make_blobs(n_samples=120, n_features=2, centers=4, cluster_std=0.4)"
      ],
      "execution_count": 2,
      "outputs": []
    },
    {
      "cell_type": "markdown",
      "metadata": {
        "id": "Ham5Fmok5d67"
      },
      "source": [
        "Ex.3 Analyse the x and y shape."
      ]
    },
    {
      "cell_type": "code",
      "metadata": {
        "colab": {
          "base_uri": "https://localhost:8080/"
        },
        "id": "R5aQ5t2y2rE9",
        "outputId": "301e585f-5c72-4372-d935-a055591b5dde"
      },
      "source": [
        "X.shape"
      ],
      "execution_count": 3,
      "outputs": [
        {
          "output_type": "execute_result",
          "data": {
            "text/plain": [
              "(120, 2)"
            ]
          },
          "metadata": {},
          "execution_count": 3
        }
      ]
    },
    {
      "cell_type": "code",
      "metadata": {
        "colab": {
          "base_uri": "https://localhost:8080/"
        },
        "id": "AGQooB_l2raW",
        "outputId": "2ac7ab7c-b2d5-4d1e-c5c0-74ef9a02842a"
      },
      "source": [
        "y.shape"
      ],
      "execution_count": 4,
      "outputs": [
        {
          "output_type": "execute_result",
          "data": {
            "text/plain": [
              "(120,)"
            ]
          },
          "metadata": {},
          "execution_count": 4
        }
      ]
    },
    {
      "cell_type": "markdown",
      "metadata": {
        "id": "4UfpJApJ5whG"
      },
      "source": [
        "Ex.4 Plot the data samples in X to see the clusters."
      ]
    },
    {
      "cell_type": "code",
      "metadata": {
        "colab": {
          "base_uri": "https://localhost:8080/",
          "height": 282
        },
        "id": "LX0bxlPC2vdw",
        "outputId": "7a1461ee-3c12-4a12-b19d-ce7f0843ab74"
      },
      "source": [
        "import matplotlib.pyplot as plt\n",
        "\n",
        "plt.scatter(X[:,0], X[:,1])"
      ],
      "execution_count": 5,
      "outputs": [
        {
          "output_type": "execute_result",
          "data": {
            "text/plain": [
              "<matplotlib.collections.PathCollection at 0x7f7fcf19b7d0>"
            ]
          },
          "metadata": {},
          "execution_count": 5
        },
        {
          "output_type": "display_data",
          "data": {
            "image/png": "[encoded data removed]",
            "text/plain": [
              "<Figure size 432x288 with 1 Axes>"
            ]
          },
          "metadata": {
            "needs_background": "light"
          }
        }
      ]
    },
    {
      "cell_type": "markdown",
      "metadata": {
        "id": "7C-JZMj-6HhL"
      },
      "source": [
        "Ex.5 Run the implemented KMeans function, fit the model and predict the outcome."
      ]
    },
    {
      "cell_type": "code",
      "metadata": {
        "id": "YlFPjdFk3_D9"
      },
      "source": [
        "from sklearn.cluster import KMeans\n",
        "\n",
        "model = KMeans(init='random', n_clusters=4)\n",
        "model.fit(X, y)\n",
        "pred = model.predict(X)"
      ],
      "execution_count": 6,
      "outputs": []
    },
    {
      "cell_type": "markdown",
      "metadata": {
        "id": "ycrLulf16tJy"
      },
      "source": [
        "Ex.6 Plot the results in order to see whether the clustering worked."
      ]
    },
    {
      "cell_type": "code",
      "metadata": {
        "colab": {
          "base_uri": "https://localhost:8080/",
          "height": 265
        },
        "id": "DVzO36Mt6s0P",
        "outputId": "f5142108-9180-40a1-cde9-b2e3788a38ad"
      },
      "source": [
        "plt.scatter(X[:, 0], X[:, 1], c=pred)\n",
        "\n",
        "cluster_centers = model.cluster_centers_\n",
        "plt.scatter(cluster_centers[:, 0], cluster_centers[:, 1], c='black', s=150);"
      ],
      "execution_count": 7,
      "outputs": [
        {
          "output_type": "display_data",
          "data": {
            "image/png": "[encoded data removed]",
            "text/plain": [
              "<Figure size 432x288 with 1 Axes>"
            ]
          },
          "metadata": {
            "needs_background": "light"
          }
        }
      ]
    },
    {
      "cell_type": "markdown",
      "metadata": {
        "id": "1pta4I0k6QIP"
      },
      "source": [
        "Ex.7 Calculate inertia Inertia_ or Dunn index Package jgmcvi (optional)."
      ]
    },
    {
      "cell_type": "code",
      "metadata": {
        "colab": {
          "base_uri": "https://localhost:8080/"
        },
        "id": "EQLP2hrp3Rb8",
        "outputId": "e7d2c353-e799-4055-aa81-1cb02289b1c0"
      },
      "source": [
        "from jqmcvi import dunn # downloaded and pasted the library next to this notebook\n",
        "\n",
        "k_list = [ [] for _ in range(4) ]\n",
        "for i, pr in enumerate(pred):\n",
        "    k_list[pr].append(X[i,:])\n",
        "    \n",
        "print(\"Inertia:\", model.inertia_)\n",
        "print(\"Dunn:\", dunn(k_list))"
      ],
      "execution_count": 8,
      "outputs": [
        {
          "output_type": "stream",
          "name": "stdout",
          "text": [
            "Inertia: 36.720519778534786\n",
            "Dunn: 2.302996347199709\n"
          ]
        }
      ]
    },
    {
      "cell_type": "markdown",
      "metadata": {
        "id": "0oBK1l6W3XXY"
      },
      "source": [
        "### K-means clustering - example II"
      ]
    },
    {
      "cell_type": "markdown",
      "metadata": {
        "id": "a0uXab8K7UGT"
      },
      "source": [
        "Change the parameters of our data generation process to create different-looking clusters (eg. about 5 clusters and cluster_std=0.8).\n",
        "\n",
        "- Ex.1 Plot the data\n",
        "- Ex.2 Predict for the same nb. of clusters = 5."
      ]
    },
    {
      "cell_type": "code",
      "metadata": {
        "colab": {
          "base_uri": "https://localhost:8080/",
          "height": 282
        },
        "id": "xkKs9Myc3UGJ",
        "outputId": "a9203fe0-77cb-4242-9a15-d87db84615c7"
      },
      "source": [
        "X, y = make_blobs(n_samples=120, n_features=2, centers=5, cluster_std=0.8)\n",
        "plt.scatter(X[:,0], X[:,1])"
      ],
      "execution_count": 9,
      "outputs": [
        {
          "output_type": "execute_result",
          "data": {
            "text/plain": [
              "<matplotlib.collections.PathCollection at 0x7f7fc0d77390>"
            ]
          },
          "metadata": {},
          "execution_count": 9
        },
        {
          "output_type": "display_data",
          "data": {
            "image/png": "[encoded data removed]",
            "text/plain": [
              "<Figure size 432x288 with 1 Axes>"
            ]
          },
          "metadata": {
            "needs_background": "light"
          }
        }
      ]
    },
    {
      "cell_type": "code",
      "metadata": {
        "colab": {
          "base_uri": "https://localhost:8080/",
          "height": 265
        },
        "id": "9SL_8bN24Fym",
        "outputId": "60070c4e-11a6-4e81-e868-382567c47b63"
      },
      "source": [
        "model = KMeans(init='random', n_clusters=5)\n",
        "model.fit(X, y)\n",
        "pred = model.predict(X)\n",
        "\n",
        "plt.scatter(X[:, 0], X[:, 1], c=pred)\n",
        "\n",
        "cluster_centers = model.cluster_centers_\n",
        "plt.scatter(cluster_centers[:, 0], cluster_centers[:, 1], c='black', s=200);"
      ],
      "execution_count": 10,
      "outputs": [
        {
          "output_type": "display_data",
          "data": {
            "image/png": "[encoded data removed]",
            "text/plain": [
              "<Figure size 432x288 with 1 Axes>"
            ]
          },
          "metadata": {
            "needs_background": "light"
          }
        }
      ]
    },
    {
      "cell_type": "code",
      "metadata": {
        "colab": {
          "base_uri": "https://localhost:8080/"
        },
        "id": "__0IxQiK4Iaa",
        "outputId": "a6d32c84-dbcf-4dca-dd5d-ae08f81bd490"
      },
      "source": [
        "k_list = [ [] for _ in range(5) ]\n",
        "for i, pr in enumerate(pred):\n",
        "    k_list[pr].append(X[i,:])\n",
        "    \n",
        "print(\"Inertia:\", model.inertia_)\n",
        "print(\"Dunn:\", dunn(k_list))"
      ],
      "execution_count": 11,
      "outputs": [
        {
          "output_type": "stream",
          "name": "stdout",
          "text": [
            "Inertia: 115.39558434809962\n",
            "Dunn: 0.06290281629777869\n"
          ]
        }
      ]
    },
    {
      "cell_type": "markdown",
      "metadata": {
        "id": "91i-EZzN7R3T"
      },
      "source": [
        "Ex.3 Predict for 2 instead of 5 clusters."
      ]
    },
    {
      "cell_type": "code",
      "metadata": {
        "colab": {
          "base_uri": "https://localhost:8080/",
          "height": 265
        },
        "id": "2Ul2G_4c4I6p",
        "outputId": "30fe041e-0ac7-4ee4-df26-5be00c7f26c0"
      },
      "source": [
        "model = KMeans(init='random', n_clusters=2)\n",
        "model.fit(X, y)\n",
        "pred = model.predict(X)\n",
        "\n",
        "plt.scatter(X[:, 0], X[:, 1], c=pred)\n",
        "\n",
        "cluster_centers = model.cluster_centers_\n",
        "plt.scatter(cluster_centers[:, 0], cluster_centers[:, 1], c='black', s=200);"
      ],
      "execution_count": 12,
      "outputs": [
        {
          "output_type": "display_data",
          "data": {
            "image/png": "[encoded data removed]",
            "text/plain": [
              "<Figure size 432x288 with 1 Axes>"
            ]
          },
          "metadata": {
            "needs_background": "light"
          }
        }
      ]
    },
    {
      "cell_type": "code",
      "metadata": {
        "colab": {
          "base_uri": "https://localhost:8080/"
        },
        "id": "l4fnkChs4LGh",
        "outputId": "fd13b01e-e003-4b1f-838b-a5f853f72974"
      },
      "source": [
        "k_list = [ [] for _ in range(2) ]\n",
        "for i, pr in enumerate(pred):\n",
        "    k_list[pr].append(X[i,:])\n",
        "    \n",
        "print(\"Inertia:\", model.inertia_)\n",
        "print(\"Dunn:\", dunn(k_list))"
      ],
      "execution_count": 13,
      "outputs": [
        {
          "output_type": "stream",
          "name": "stdout",
          "text": [
            "Inertia: 2114.189107576426\n",
            "Dunn: 0.8557830951353307\n"
          ]
        }
      ]
    },
    {
      "cell_type": "markdown",
      "metadata": {
        "id": "Q9R3IcfZ7h8w"
      },
      "source": [
        "### K-means++"
      ]
    },
    {
      "cell_type": "markdown",
      "metadata": {
        "id": "_RTNZZKG7wF6"
      },
      "source": [
        "Ex.1 Run K-Means for the previous ex. while changing the parameter in KMeans function: `init='k-means++'`\n",
        "\n",
        "Ex.2 Calculate inertia or Dunn index."
      ]
    },
    {
      "cell_type": "code",
      "metadata": {
        "colab": {
          "base_uri": "https://localhost:8080/"
        },
        "id": "JMVIO3la4NWZ",
        "outputId": "58498116-b81f-4f15-a221-92df8a44e56c"
      },
      "source": [
        "model = KMeans(init='k-means++', n_clusters=5)\n",
        "model.fit(X,y)\n",
        "pred = model.predict(X)\n",
        "\n",
        "k_list = [ [] for _ in range(5) ]\n",
        "for i, pr in enumerate(pred):\n",
        "    k_list[pr].append(X[i,:])\n",
        "    \n",
        "print(\"Inertia:\", model.inertia_)\n",
        "print(\"Dunn:\", dunn(k_list))"
      ],
      "execution_count": 14,
      "outputs": [
        {
          "output_type": "stream",
          "name": "stdout",
          "text": [
            "Inertia: 115.39558434809962\n",
            "Dunn: 0.06290281629777869\n"
          ]
        }
      ]
    },
    {
      "cell_type": "markdown",
      "metadata": {
        "id": "dnE4HBJv7-ZK"
      },
      "source": [
        "### Elbow method\n",
        "\n",
        "Please implement the elbow method to choose the correct parameter value for k.\n",
        "\n",
        "- Ex.1 Run K-Means for a range of clusters using a for loop and collecting the distortions (inertia) into a list.\n",
        "- Ex.2 Plot the distortions of K-Means.\n",
        "\n",
        "Maximum number of a clasters is 20"
      ]
    },
    {
      "cell_type": "code",
      "metadata": {
        "colab": {
          "base_uri": "https://localhost:8080/",
          "height": 282
        },
        "id": "0CaYlA_l4PYX",
        "outputId": "8de2c4ec-4f52-47e8-d2a8-fcc3e1be0bae"
      },
      "source": [
        "X, y = make_blobs(n_samples=120, n_features=2, centers=5, cluster_std=0.8)\n",
        "\n",
        "cluster_cnt = range(1, 11)\n",
        "inertia_values = [KMeans(init='k-means++', n_clusters=clusters).fit(X, y).inertia_ for clusters in cluster_cnt];\n",
        "plt.plot(cluster_cnt, inertia_values, marker='o')"
      ],
      "execution_count": 15,
      "outputs": [
        {
          "output_type": "execute_result",
          "data": {
            "text/plain": [
              "[<matplotlib.lines.Line2D at 0x7f7fbec57dd0>]"
            ]
          },
          "metadata": {},
          "execution_count": 15
        },
        {
          "output_type": "display_data",
          "data": {
            "image/png": "[encoded data removed]",
            "text/plain": [
              "<Figure size 432x288 with 1 Axes>"
            ]
          },
          "metadata": {
            "needs_background": "light"
          }
        }
      ]
    },
    {
      "cell_type": "markdown",
      "metadata": {
        "id": "69Gd1ISC8olt"
      },
      "source": [
        "### Ex.\n",
        "\n",
        "Please check whether the K-Means algorithm will correctly cluster the data:"
      ]
    },
    {
      "cell_type": "code",
      "metadata": {
        "colab": {
          "base_uri": "https://localhost:8080/",
          "height": 385
        },
        "id": "2U-BduCZ4RAH",
        "outputId": "a7b06ac6-80cb-49e8-810c-cba7b35713e8"
      },
      "source": [
        "from sklearn.datasets import make_moons\n",
        "import seaborn as sns\n",
        "import pandas as pd\n",
        " \n",
        "x, y = make_moons(1000, noise=.05, random_state=0)\n",
        "X_moon = pd.DataFrame(x, columns = ['f1','f2'])\n",
        "\n",
        "model = KMeans(init='k-means++', n_clusters=2)\n",
        "model.fit(x, y)\n",
        "y_km = model.predict(x)\n",
        "centers = model.cluster_centers_\n",
        "\n",
        "#Plot\n",
        "X_moon['k_means'] = y_km\n",
        "sns.lmplot(data=X_moon, x='f1', y='f2', fit_reg=False, hue = 'k_means', palette = ['#eb6c6a', '#6aeb6c']).set(title='Algorytm k-srednich')\n",
        "plt.scatter(centers[:, 0], centers[:, 1], c='black', s=100, alpha=0.5)\n",
        "plt.show()"
      ],
      "execution_count": 16,
      "outputs": [
        {
          "output_type": "display_data",
          "data": {
            "image/png": "[encoded data removed]",
            "text/plain": [
              "<Figure size 412.25x360 with 1 Axes>"
            ]
          },
          "metadata": {
            "needs_background": "light"
          }
        }
      ]
    },
    {
      "cell_type": "markdown",
      "metadata": {
        "id": "_weoXGth8rK7"
      },
      "source": [
        "It's not - it (the moons) is classical example when K-means does not perform well"
      ]
    }
  ]
}