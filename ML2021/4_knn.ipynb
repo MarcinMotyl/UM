{
  "nbformat": 4,
  "nbformat_minor": 0,
  "metadata": {
    "colab": {
      "name": "4-knn.ipynb",
      "provenance": [],
      "collapsed_sections": []
    },
    "kernelspec": {
      "name": "python3",
      "display_name": "Python 3"
    },
    "language_info": {
      "name": "python"
    }
  },
  "cells": [
    {
      "cell_type": "markdown",
      "metadata": {
        "id": "30ZC7tx_Zqks"
      },
      "source": [
        "# Zadanie 1 - kNN - własna implementacja\n",
        "Proszę przedstawić własną implementację algorytmu “K najbliższych sąsiadów”.\n",
        "\n",
        "Zadanie:\n",
        "1. Baza danych Iris - proszę podzielić na zbiór uczący i testowy\n",
        "2. Znaleźć najlepszą wartość k dla wybranego zbioru testowego (oraz przedstawić na wykresie zmianę k oraz błąd - dla obu zbiorów, testowego i uczącego)\n",
        "Wybieramy wartość k (np. od 1 do n, gdzie n będzie wartością dla której wyniki algorytmu będą się ponownie pogarszać)\n",
        "Dla każdego przykładu ze zbioru testowego poszukujemy k obserwacji, które są najbliższe do naszego analizowanego przykładu. Do wyznaczania odległości skorzystaj z odległości Eukleidesa.\n",
        "Przewaga danej klasy pośród k najbliższych sąsiadów (ze zbioru uczącego) świadczy o przynależności przykładu do tej klasy.\n",
        "Użyj najczęściej pojawiającej się wartości z “k najbliższych sąsiadów” jako wartość dla nie zaklasyfikowanego przykładu.\n",
        "Dla każdego przypadku k, po zaklasyfikowaniu wszystkich przykładów ze zbioru testowego, policz błąd (np. ilość przykładów źle zaklasyfikowanych do liczebności zbioru) i zapisz parę (k - błąd) w celu zebrania danych do wykresów podsumowujących.\n",
        "3. Zaproponuj najlepsze k dla zbioru."
      ]
    },
    {
      "cell_type": "code",
      "metadata": {
        "id": "Yi1Iw7qXZhtD"
      },
      "source": [
        "from sklearn import datasets\n",
        "from sklearn.model_selection import train_test_split\n",
        "from scipy.spatial import distance\n",
        "from sklearn.metrics import accuracy_score\n",
        "import numpy as np"
      ],
      "execution_count": 6,
      "outputs": []
    },
    {
      "cell_type": "code",
      "metadata": {
        "id": "VaNqsfLeZ0le"
      },
      "source": [
        "db_iris = datasets.load_iris()"
      ],
      "execution_count": 89,
      "outputs": []
    },
    {
      "cell_type": "markdown",
      "metadata": {
        "id": "Zf2eIW_faKgE"
      },
      "source": [
        ""
      ]
    },
    {
      "cell_type": "code",
      "metadata": {
        "id": "aTbKwU1jaFIw"
      },
      "source": [
        "# podzial na zbior uczacy i testowy\n",
        "features_train, features_test, labels_train, labels_test = train_test_split(db_iris.data, db_iris.target, test_size=0.3)"
      ],
      "execution_count": 108,
      "outputs": []
    },
    {
      "cell_type": "code",
      "metadata": {
        "id": "IT578uu5dxBV"
      },
      "source": [
        "# zwraca najczestszy element ze zbioru knn\n",
        "def select_most_common_class(knn):\n",
        "    unique, counts = np.unique(knn, return_counts = True)\n",
        "    return unique[np.argmax(counts)]"
      ],
      "execution_count": 109,
      "outputs": []
    },
    {
      "cell_type": "code",
      "metadata": {
        "colab": {
          "base_uri": "https://localhost:8080/"
        },
        "id": "D4vbCR-1Z7ql",
        "outputId": "d7096f11-63c6-47db-c402-f29b332bb777"
      },
      "source": [
        "k = 4\n",
        "\n",
        "predictions = []\n",
        "for sample in features_test:\n",
        "    neighbors = np.zeros((features_train.shape[0], 2), dtype = float)\n",
        "    neighbors[:,1] = labels_train\n",
        "\n",
        "    for idx, known_sample in enumerate(features_train):\n",
        "        neighbors[idx, 0] = distance.euclidean(sample, known_sample)\n",
        "\n",
        "    neighbors = neighbors[np.argsort(neighbors[:,0])]\n",
        "    knn = neighbors[0:k, 1]\n",
        "    predictions.append(select_most_common_class(knn))    \n",
        "\n",
        "accuracy = accuracy_score(labels_test, predictions)\n",
        "accuracy"
      ],
      "execution_count": 112,
      "outputs": [
        {
          "output_type": "execute_result",
          "data": {
            "text/plain": [
              "0.9777777777777777"
            ]
          },
          "metadata": {},
          "execution_count": 112
        }
      ]
    },
    {
      "cell_type": "markdown",
      "metadata": {
        "id": "egkqHkFEaS0B"
      },
      "source": [
        "# Zadanie 2 - kNN - Python (sklearn)"
      ]
    },
    {
      "cell_type": "code",
      "metadata": {
        "colab": {
          "base_uri": "https://localhost:8080/"
        },
        "id": "NtD-eu9MaWEZ",
        "outputId": "ac0f5a2e-441c-4a50-9bb5-fe1fff32c699"
      },
      "source": [
        "from sklearn import datasets\n",
        "from sklearn.metrics import accuracy_score\n",
        "from sklearn.model_selection import train_test_split\n",
        "from sklearn.neighbors import KNeighborsClassifier\n",
        "\n",
        "\n",
        "# wczytanie zbioru, podzial na zbior uczacy i testowy\n",
        "db_iris = datasets.load_iris()\n",
        "X_train, X_test, y_train, y_test = train_test_split(db_iris.data, db_iris.target, test_size=0.3)\n",
        "\n",
        "k = 4 # wybrane z poprzedniego zadania\n",
        "\n",
        "# uzywam sklearn do osiągnięcia tego samego co wyzej\n",
        "classifier = KNeighborsClassifier(k)\n",
        "classifier.fit(X_train, y_train)\n",
        "accuracy = classifier.score(X_test, y_test)\n",
        "accuracy"
      ],
      "execution_count": 111,
      "outputs": [
        {
          "output_type": "execute_result",
          "data": {
            "text/plain": [
              "0.9777777777777777"
            ]
          },
          "metadata": {},
          "execution_count": 111
        }
      ]
    },
    {
      "cell_type": "markdown",
      "metadata": {
        "id": "SzGKn9vUay2k"
      },
      "source": [
        "# Zadanie 3 - drzewa decyzyjne\n",
        "\n",
        "### Przykład z instrukcji"
      ]
    },
    {
      "cell_type": "code",
      "metadata": {
        "colab": {
          "base_uri": "https://localhost:8080/"
        },
        "id": "wXZyCsvLa1yJ",
        "outputId": "ae2af214-e453-4913-fccf-34fa8e618ba0"
      },
      "source": [
        "from sklearn.datasets import load_iris\n",
        "from sklearn import tree\n",
        "iris = load_iris()\n",
        "clf = tree.DecisionTreeClassifier()\n",
        "clf.fit(iris.data, iris.target)"
      ],
      "execution_count": 12,
      "outputs": [
        {
          "output_type": "execute_result",
          "data": {
            "text/plain": [
              "DecisionTreeClassifier(ccp_alpha=0.0, class_weight=None, criterion='gini',\n",
              "                       max_depth=None, max_features=None, max_leaf_nodes=None,\n",
              "                       min_impurity_decrease=0.0, min_impurity_split=None,\n",
              "                       min_samples_leaf=1, min_samples_split=2,\n",
              "                       min_weight_fraction_leaf=0.0, presort='deprecated',\n",
              "                       random_state=None, splitter='best')"
            ]
          },
          "metadata": {},
          "execution_count": 12
        }
      ]
    },
    {
      "cell_type": "code",
      "metadata": {
        "colab": {
          "base_uri": "https://localhost:8080/"
        },
        "id": "T3xQNEa9a7oN",
        "outputId": "43bf75ae-a77a-4427-f1d3-ceea803f1896"
      },
      "source": [
        "clf.predict(iris.data[:1, :])"
      ],
      "execution_count": 13,
      "outputs": [
        {
          "output_type": "execute_result",
          "data": {
            "text/plain": [
              "array([0])"
            ]
          },
          "metadata": {},
          "execution_count": 13
        }
      ]
    },
    {
      "cell_type": "code",
      "metadata": {
        "colab": {
          "base_uri": "https://localhost:8080/"
        },
        "id": "TMBA9nTia9ns",
        "outputId": "9a82135a-7e3a-4fc7-94ca-08d4fa9bf69e"
      },
      "source": [
        "clf.predict_proba(iris.data[:1, :])"
      ],
      "execution_count": 14,
      "outputs": [
        {
          "output_type": "execute_result",
          "data": {
            "text/plain": [
              "array([[1., 0., 0.]])"
            ]
          },
          "metadata": {},
          "execution_count": 14
        }
      ]
    },
    {
      "cell_type": "code",
      "metadata": {
        "colab": {
          "base_uri": "https://localhost:8080/"
        },
        "id": "JLHTiPYOa_os",
        "outputId": "c3b19d5d-46f3-4576-f185-fb15fa5d6826"
      },
      "source": [
        "from sklearn.externals.six import StringIO  \n",
        "import pydot \n",
        "dot_data = StringIO() \n",
        "tree.export_graphviz(clf, out_file=dot_data) \n",
        "graph = pydot.graph_from_dot_data(dot_data.getvalue()) \n",
        "graph[0].write_pdf(\"iris.pdf\")"
      ],
      "execution_count": 15,
      "outputs": [
        {
          "output_type": "stream",
          "name": "stderr",
          "text": [
            "/usr/local/lib/python3.7/dist-packages/sklearn/externals/six.py:31: FutureWarning: The module is deprecated in version 0.21 and will be removed in version 0.23 since we've dropped support for Python 2.7. Please rely on the official version of six (https://pypi.org/project/six/).\n",
            "  \"(https://pypi.org/project/six/).\", FutureWarning)\n"
          ]
        }
      ]
    },
    {
      "cell_type": "markdown",
      "metadata": {
        "id": "SZ7Ij2qibC-g"
      },
      "source": [
        "### Zadanie - MNIST"
      ]
    },
    {
      "cell_type": "code",
      "metadata": {
        "id": "kEi01h2HbnN7"
      },
      "source": [
        "import matplotlib.pyplot as plt\n",
        "import numpy as np\n",
        "import sklearn\n",
        "from sklearn.metrics import classification_report, confusion_matrix, f1_score\n",
        "from sklearn import tree\n",
        "from sklearn.model_selection import train_test_split\n",
        "from scipy.io import loadmat"
      ],
      "execution_count": 16,
      "outputs": []
    },
    {
      "cell_type": "markdown",
      "metadata": {
        "id": "SCl20a4keAcd"
      },
      "source": [
        "**Plik z instrukcji nie działał, ściągnąłem z internetu**\n",
        "\n",
        "- link: https://github.com/daniel-e/mnist_octave\n",
        "\n",
        "- oryginalny mnist ma obrazki w rozmiarze 28x28\n",
        "- usunąłem linijke od błędu w zbiorze\n",
        "- usunąłem transpozycje z printowanaia plotu - w tym zbiorze nie jest potrzebna\n",
        "- za to musiałem transponowac `y`"
      ]
    },
    {
      "cell_type": "code",
      "metadata": {
        "id": "alvgRCOLboe3"
      },
      "source": [
        "# wczytywanie danych\n",
        "dane = loadmat('mnist.mat')"
      ],
      "execution_count": 37,
      "outputs": []
    },
    {
      "cell_type": "markdown",
      "metadata": {
        "id": "Pn29yHMJbqRt"
      },
      "source": [
        "Zad 1. Podziel dane na parametry X oraz odpowiedź y:"
      ]
    },
    {
      "cell_type": "code",
      "metadata": {
        "id": "rnIojjYXbtJ6"
      },
      "source": [
        "X = dane[\"trainX\"]\n",
        "y = dane[\"trainY\"]\n",
        "\n",
        "# Standaryzacja\n",
        "for i in range(X.shape[0]):\n",
        "    X[i,:] = X[i,:]/np.std(X[i,:])\n",
        " \n",
        "# Zamiana cyfry 10 -> 0 (błąd w zbiorze danych)    \n",
        "# y[np.where(y==10)]=0"
      ],
      "execution_count": 57,
      "outputs": []
    },
    {
      "cell_type": "markdown",
      "metadata": {
        "id": "CEP02Oiub31P"
      },
      "source": [
        "Zad 2. Proszę wyświetlić liczbę cyfr oraz liczbę pikseli przypadającą na jeden obraz"
      ]
    },
    {
      "cell_type": "code",
      "metadata": {
        "colab": {
          "base_uri": "https://localhost:8080/"
        },
        "id": "Tqf4z-7kb7K8",
        "outputId": "deff9e41-fbec-41a6-8388-f90babbdd2a7"
      },
      "source": [
        "digits, pixels = X.shape\n",
        "digits, pixels"
      ],
      "execution_count": 52,
      "outputs": [
        {
          "output_type": "execute_result",
          "data": {
            "text/plain": [
              "(60000, 784)"
            ]
          },
          "metadata": {},
          "execution_count": 52
        }
      ]
    },
    {
      "cell_type": "code",
      "metadata": {
        "colab": {
          "base_uri": "https://localhost:8080/"
        },
        "id": "rLyAUfr5gRbH",
        "outputId": "195ca1e6-be79-40e6-dfc4-2a3ed6580e99"
      },
      "source": [
        "y = y.T\n",
        "y.shape"
      ],
      "execution_count": 58,
      "outputs": [
        {
          "output_type": "execute_result",
          "data": {
            "text/plain": [
              "(60000, 1)"
            ]
          },
          "metadata": {},
          "execution_count": 58
        }
      ]
    },
    {
      "cell_type": "markdown",
      "metadata": {
        "id": "SoJbBxcmcIgu"
      },
      "source": [
        "Zad 3. Wyswietlenie przykladowych cyfr"
      ]
    },
    {
      "cell_type": "code",
      "metadata": {
        "id": "XwZji6K1bdEw"
      },
      "source": [
        "def plot_mnist(images, titles, h, w, n_row=3, n_col=4):\n",
        "    plt.figure(figsize=(1.8 * n_col, 2.4 * n_row))\n",
        "    plt.subplots_adjust(bottom=0, left=.01, right=.99, top=.90, hspace=.05)\n",
        "    for i in range(n_row * n_col):\n",
        "        plt.subplot(n_row, n_col, i + 1)\n",
        "        # tu usunalem transpozycje przy reshape()\n",
        "        plt.imshow(images[i].reshape((h, w)), cmap=plt.cm.gray)\n",
        "        plt.title(titles[i], size=12)\n",
        "        plt.xticks(())\n",
        "        plt.yticks(())"
      ],
      "execution_count": 78,
      "outputs": []
    },
    {
      "cell_type": "code",
      "metadata": {
        "id": "u_ia5_u_eM_a"
      },
      "source": [
        "w, h = 28, 28"
      ],
      "execution_count": 55,
      "outputs": []
    },
    {
      "cell_type": "code",
      "metadata": {
        "colab": {
          "base_uri": "https://localhost:8080/",
          "height": 231
        },
        "id": "XNsNTCjRbd0r",
        "outputId": "761a1b11-8c9c-4560-dda4-594b6fe08d55"
      },
      "source": [
        "plot_mnist([X[1]], [y[1]], w, h, n_row=1, n_col=1)"
      ],
      "execution_count": 79,
      "outputs": [
        {
          "output_type": "stream",
          "name": "stderr",
          "text": [
            "/usr/local/lib/python3.7/dist-packages/matplotlib/text.py:1165: FutureWarning: elementwise comparison failed; returning scalar instead, but in the future will perform elementwise comparison\n",
            "  if s != self._text:\n"
          ]
        },
        {
          "output_type": "display_data",
          "data": {
            "image/png": "[encoded data removed]",
            "text/plain": [
              "<Figure size 129.6x172.8 with 1 Axes>"
            ]
          },
          "metadata": {}
        }
      ]
    },
    {
      "cell_type": "code",
      "metadata": {
        "colab": {
          "base_uri": "https://localhost:8080/",
          "height": 231
        },
        "id": "MZhgomXBbgEO",
        "outputId": "e3b6f226-dd69-45d5-cd54-95a24ba3ae89"
      },
      "source": [
        "plot_mnist([X[1234]], [y[1234]], w, h, n_row=1, n_col=1)"
      ],
      "execution_count": 80,
      "outputs": [
        {
          "output_type": "stream",
          "name": "stderr",
          "text": [
            "/usr/local/lib/python3.7/dist-packages/matplotlib/text.py:1165: FutureWarning: elementwise comparison failed; returning scalar instead, but in the future will perform elementwise comparison\n",
            "  if s != self._text:\n"
          ]
        },
        {
          "output_type": "display_data",
          "data": {
            "image/png": "[encoded data removed]",
            "text/plain": [
              "<Figure size 129.6x172.8 with 1 Axes>"
            ]
          },
          "metadata": {}
        }
      ]
    },
    {
      "cell_type": "code",
      "metadata": {
        "colab": {
          "base_uri": "https://localhost:8080/",
          "height": 231
        },
        "id": "2O9OP_j9bf22",
        "outputId": "b75f1952-f733-4e8b-cf69-08d7a9577da5"
      },
      "source": [
        "plot_mnist([X[220]], [y[220]], w, h, n_row=1, n_col=1)"
      ],
      "execution_count": 81,
      "outputs": [
        {
          "output_type": "stream",
          "name": "stderr",
          "text": [
            "/usr/local/lib/python3.7/dist-packages/matplotlib/text.py:1165: FutureWarning: elementwise comparison failed; returning scalar instead, but in the future will perform elementwise comparison\n",
            "  if s != self._text:\n"
          ]
        },
        {
          "output_type": "display_data",
          "data": {
            "image/png": "[encoded data removed]",
            "text/plain": [
              "<Figure size 129.6x172.8 with 1 Axes>"
            ]
          },
          "metadata": {}
        }
      ]
    },
    {
      "cell_type": "code",
      "metadata": {
        "colab": {
          "base_uri": "https://localhost:8080/",
          "height": 231
        },
        "id": "mGShApNYbi08",
        "outputId": "9cde59d0-5298-4b13-f6ed-295ab0b943e9"
      },
      "source": [
        "plot_mnist([X[4200]], [y[4200]], w, h, n_row=1, n_col=1)"
      ],
      "execution_count": 82,
      "outputs": [
        {
          "output_type": "stream",
          "name": "stderr",
          "text": [
            "/usr/local/lib/python3.7/dist-packages/matplotlib/text.py:1165: FutureWarning: elementwise comparison failed; returning scalar instead, but in the future will perform elementwise comparison\n",
            "  if s != self._text:\n"
          ]
        },
        {
          "output_type": "display_data",
          "data": {
            "image/png": "[encoded data removed]",
            "text/plain": [
              "<Figure size 129.6x172.8 with 1 Axes>"
            ]
          },
          "metadata": {}
        }
      ]
    },
    {
      "cell_type": "code",
      "metadata": {
        "colab": {
          "base_uri": "https://localhost:8080/",
          "height": 231
        },
        "id": "wIuwp22kbkmn",
        "outputId": "dfa9d1f7-7432-4f6b-e285-3c99dd825c31"
      },
      "source": [
        "plot_mnist([X[6323]], [y[6323]], w, h, n_row=1, n_col=1)"
      ],
      "execution_count": 83,
      "outputs": [
        {
          "output_type": "stream",
          "name": "stderr",
          "text": [
            "/usr/local/lib/python3.7/dist-packages/matplotlib/text.py:1165: FutureWarning: elementwise comparison failed; returning scalar instead, but in the future will perform elementwise comparison\n",
            "  if s != self._text:\n"
          ]
        },
        {
          "output_type": "display_data",
          "data": {
            "image/png": "[encoded data removed]",
            "text/plain": [
              "<Figure size 129.6x172.8 with 1 Axes>"
            ]
          },
          "metadata": {}
        }
      ]
    },
    {
      "cell_type": "markdown",
      "metadata": {
        "id": "nBy0Rp6TcnwJ"
      },
      "source": [
        "Zad 4 - podzial na zbiory"
      ]
    },
    {
      "cell_type": "code",
      "metadata": {
        "id": "mStXGMOTco_O"
      },
      "source": [
        "X_train, X_test, y_train, y_test = train_test_split(X, y, test_size=0.3)"
      ],
      "execution_count": 64,
      "outputs": []
    },
    {
      "cell_type": "markdown",
      "metadata": {
        "id": "7oZ_bPgzcqLY"
      },
      "source": [
        "Zad 5"
      ]
    },
    {
      "cell_type": "code",
      "metadata": {
        "colab": {
          "base_uri": "https://localhost:8080/"
        },
        "id": "F3q4JBRlcuj6",
        "outputId": "6d4c2eb5-846b-4d73-9273-8741a40daaf2"
      },
      "source": [
        "DEPTH = 10\n",
        "clf = tree.DecisionTreeClassifier(max_depth=DEPTH)\n",
        "clf.fit(X_train, y_train)\n",
        "\n",
        "y_pred = clf.predict(X_test)\n",
        "y_pred"
      ],
      "execution_count": 65,
      "outputs": [
        {
          "output_type": "execute_result",
          "data": {
            "text/plain": [
              "array([2, 8, 1, ..., 0, 1, 3], dtype=uint8)"
            ]
          },
          "metadata": {},
          "execution_count": 65
        }
      ]
    },
    {
      "cell_type": "markdown",
      "metadata": {
        "id": "jByQSkQScuxS"
      },
      "source": [
        "Zad 6"
      ]
    },
    {
      "cell_type": "code",
      "metadata": {
        "colab": {
          "base_uri": "https://localhost:8080/"
        },
        "id": "nRQKztAZcv6v",
        "outputId": "1b6ce915-a305-447f-cf89-f92900c8c262"
      },
      "source": [
        "# F1\n",
        "f1_score(y_test, y_pred, average=None)"
      ],
      "execution_count": 66,
      "outputs": [
        {
          "output_type": "execute_result",
          "data": {
            "text/plain": [
              "array([0.90545355, 0.93960396, 0.79686656, 0.78880266, 0.82685512,\n",
              "       0.75742429, 0.87327901, 0.88290269, 0.7765925 , 0.75469673])"
            ]
          },
          "metadata": {},
          "execution_count": 66
        }
      ]
    },
    {
      "cell_type": "code",
      "metadata": {
        "colab": {
          "base_uri": "https://localhost:8080/"
        },
        "id": "7aBYsCtXc2OJ",
        "outputId": "866a21ca-54a6-4c13-f735-780d60307733"
      },
      "source": [
        "# Macierz bledow\n",
        "confusion_matrix(y_test, y_pred)"
      ],
      "execution_count": 67,
      "outputs": [
        {
          "output_type": "execute_result",
          "data": {
            "text/plain": [
              "array([[1652,    0,   43,   12,    9,   43,   25,   10,   28,   21],\n",
              "       [   2, 1898,   34,   15,    7,    9,   12,   17,   17,   20],\n",
              "       [  31,   15, 1475,   46,   29,   36,   43,   22,   82,   36],\n",
              "       [  11,   11,   70, 1423,   15,  162,    9,   23,   24,   87],\n",
              "       [  10,   10,   21,   23, 1404,   30,   28,   12,   10,  160],\n",
              "       [  20,   10,   34,  108,   36, 1288,   35,   16,   26,   67],\n",
              "       [  26,    6,   39,    7,   38,   33, 1554,    4,   38,    7],\n",
              "       [   6,   27,   60,   30,   29,   21,    3, 1606,   18,   75],\n",
              "       [  23,   25,   80,   58,   27,   65,   94,    8, 1274,   95],\n",
              "       [  25,    7,   31,   51,   94,   74,    4,   45,   15, 1406]])"
            ]
          },
          "metadata": {},
          "execution_count": 67
        }
      ]
    },
    {
      "cell_type": "code",
      "metadata": {
        "colab": {
          "base_uri": "https://localhost:8080/"
        },
        "id": "xQvguZflc14m",
        "outputId": "2e6bbff7-ba0f-4c59-c4f4-da13b3f150ff"
      },
      "source": [
        "# Raport\n",
        "print(sklearn.metrics.classification_report(y_test, y_pred))"
      ],
      "execution_count": 68,
      "outputs": [
        {
          "output_type": "stream",
          "name": "stdout",
          "text": [
            "              precision    recall  f1-score   support\n",
            "\n",
            "           0       0.91      0.90      0.91      1843\n",
            "           1       0.94      0.93      0.94      2031\n",
            "           2       0.78      0.81      0.80      1815\n",
            "           3       0.80      0.78      0.79      1835\n",
            "           4       0.83      0.82      0.83      1708\n",
            "           5       0.73      0.79      0.76      1640\n",
            "           6       0.86      0.89      0.87      1752\n",
            "           7       0.91      0.86      0.88      1875\n",
            "           8       0.83      0.73      0.78      1749\n",
            "           9       0.71      0.80      0.75      1752\n",
            "\n",
            "    accuracy                           0.83     18000\n",
            "   macro avg       0.83      0.83      0.83     18000\n",
            "weighted avg       0.84      0.83      0.83     18000\n",
            "\n"
          ]
        }
      ]
    }
  ]
}