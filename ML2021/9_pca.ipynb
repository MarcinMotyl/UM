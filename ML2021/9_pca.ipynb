{
  "nbformat": 4,
  "nbformat_minor": 0,
  "metadata": {
    "colab": {
      "name": "9-pca.ipynb",
      "provenance": [],
      "collapsed_sections": []
    },
    "kernelspec": {
      "name": "python3",
      "display_name": "Python 3"
    },
    "language_info": {
      "name": "python"
    }
  },
  "cells": [
    {
      "cell_type": "markdown",
      "source": [
        "# PCA\n",
        "Bartłomiej Klocek\n",
        "\n",
        "## Task 2\n",
        "\n",
        "I was just following instruction and reading explanations there"
      ],
      "metadata": {
        "id": "Cbwc6X2EEATN"
      }
    },
    {
      "cell_type": "code",
      "execution_count": null,
      "metadata": {
        "id": "3oPRoUgL9GOQ"
      },
      "outputs": [],
      "source": [
        "import pandas as pd\n",
        "import numpy as np\n",
        "import matplotlib as mpl\n",
        "import matplotlib.pyplot as plt\n",
        "\n",
        "import scipy\n",
        "\n",
        "%matplotlib inline"
      ]
    },
    {
      "cell_type": "code",
      "source": [
        "df = pd.read_csv(\"usarrests.csv\", index_col=0)\n",
        "df.head()"
      ],
      "metadata": {
        "colab": {
          "base_uri": "https://localhost:8080/",
          "height": 206
        },
        "id": "hiDQAek4_fKC",
        "outputId": "7791c2df-ecfb-47b0-81a1-59ea2f52baaa"
      },
      "execution_count": null,
      "outputs": [
        {
          "output_type": "execute_result",
          "data": {
            "text/html": [
              "<div>\n",
              "<style scoped>\n",
              "    .dataframe tbody tr th:only-of-type {\n",
              "        vertical-align: middle;\n",
              "    }\n",
              "\n",
              "    .dataframe tbody tr th {\n",
              "        vertical-align: top;\n",
              "    }\n",
              "\n",
              "    .dataframe thead th {\n",
              "        text-align: right;\n",
              "    }\n",
              "</style>\n",
              "<table border=\"1\" class=\"dataframe\">\n",
              "  <thead>\n",
              "    <tr style=\"text-align: right;\">\n",
              "      <th></th>\n",
              "      <th>Murder</th>\n",
              "      <th>Assault</th>\n",
              "      <th>UrbanPop</th>\n",
              "      <th>Rape</th>\n",
              "    </tr>\n",
              "  </thead>\n",
              "  <tbody>\n",
              "    <tr>\n",
              "      <th>Alabama</th>\n",
              "      <td>13.2</td>\n",
              "      <td>236</td>\n",
              "      <td>58</td>\n",
              "      <td>21.2</td>\n",
              "    </tr>\n",
              "    <tr>\n",
              "      <th>Alaska</th>\n",
              "      <td>10.0</td>\n",
              "      <td>263</td>\n",
              "      <td>48</td>\n",
              "      <td>44.5</td>\n",
              "    </tr>\n",
              "    <tr>\n",
              "      <th>Arizona</th>\n",
              "      <td>8.1</td>\n",
              "      <td>294</td>\n",
              "      <td>80</td>\n",
              "      <td>31.0</td>\n",
              "    </tr>\n",
              "    <tr>\n",
              "      <th>Arkansas</th>\n",
              "      <td>8.8</td>\n",
              "      <td>190</td>\n",
              "      <td>50</td>\n",
              "      <td>19.5</td>\n",
              "    </tr>\n",
              "    <tr>\n",
              "      <th>California</th>\n",
              "      <td>9.0</td>\n",
              "      <td>276</td>\n",
              "      <td>91</td>\n",
              "      <td>40.6</td>\n",
              "    </tr>\n",
              "  </tbody>\n",
              "</table>\n",
              "</div>"
            ],
            "text/plain": [
              "            Murder  Assault  UrbanPop  Rape\n",
              "Alabama       13.2      236        58  21.2\n",
              "Alaska        10.0      263        48  44.5\n",
              "Arizona        8.1      294        80  31.0\n",
              "Arkansas       8.8      190        50  19.5\n",
              "California     9.0      276        91  40.6"
            ]
          },
          "metadata": {},
          "execution_count": 2
        }
      ]
    },
    {
      "cell_type": "code",
      "source": [
        "df.info()"
      ],
      "metadata": {
        "colab": {
          "base_uri": "https://localhost:8080/"
        },
        "id": "NF-P9K6U_gwM",
        "outputId": "e5dee292-87c0-4f77-f169-28c6de16c53d"
      },
      "execution_count": null,
      "outputs": [
        {
          "output_type": "stream",
          "name": "stdout",
          "text": [
            "<class 'pandas.core.frame.DataFrame'>\n",
            "Index: 50 entries, Alabama to Wyoming\n",
            "Data columns (total 4 columns):\n",
            " #   Column    Non-Null Count  Dtype  \n",
            "---  ------    --------------  -----  \n",
            " 0   Murder    50 non-null     float64\n",
            " 1   Assault   50 non-null     int64  \n",
            " 2   UrbanPop  50 non-null     int64  \n",
            " 3   Rape      50 non-null     float64\n",
            "dtypes: float64(2), int64(2)\n",
            "memory usage: 2.0+ KB\n"
          ]
        }
      ]
    },
    {
      "cell_type": "code",
      "source": [
        "df.var()"
      ],
      "metadata": {
        "colab": {
          "base_uri": "https://localhost:8080/"
        },
        "id": "IsDZstP4_h8Q",
        "outputId": "ea8ce324-0b43-4215-f674-f710f7141f1c"
      },
      "execution_count": null,
      "outputs": [
        {
          "output_type": "execute_result",
          "data": {
            "text/plain": [
              "Murder        18.970465\n",
              "Assault     6945.165714\n",
              "UrbanPop     209.518776\n",
              "Rape          87.729159\n",
              "dtype: float64"
            ]
          },
          "metadata": {},
          "execution_count": 4
        }
      ]
    },
    {
      "cell_type": "code",
      "source": [
        "from sklearn.preprocessing import scale\n",
        "X = pd.DataFrame(scale(df), index=df.index, columns=df.columns)"
      ],
      "metadata": {
        "id": "mQNXtFa__jV-"
      },
      "execution_count": null,
      "outputs": []
    },
    {
      "cell_type": "code",
      "source": [
        "from sklearn.decomposition import PCA\n",
        "pca_loadings = pd.DataFrame(PCA().fit(X).components_.T, index=df.columns, columns=['V1', 'V2', 'V3', 'V4'])\n",
        "pca_loadings"
      ],
      "metadata": {
        "colab": {
          "base_uri": "https://localhost:8080/",
          "height": 175
        },
        "id": "FzRf8qzI_lxC",
        "outputId": "44ee698b-0a36-469f-c75c-e6eafd7b2572"
      },
      "execution_count": null,
      "outputs": [
        {
          "output_type": "execute_result",
          "data": {
            "text/html": [
              "<div>\n",
              "<style scoped>\n",
              "    .dataframe tbody tr th:only-of-type {\n",
              "        vertical-align: middle;\n",
              "    }\n",
              "\n",
              "    .dataframe tbody tr th {\n",
              "        vertical-align: top;\n",
              "    }\n",
              "\n",
              "    .dataframe thead th {\n",
              "        text-align: right;\n",
              "    }\n",
              "</style>\n",
              "<table border=\"1\" class=\"dataframe\">\n",
              "  <thead>\n",
              "    <tr style=\"text-align: right;\">\n",
              "      <th></th>\n",
              "      <th>V1</th>\n",
              "      <th>V2</th>\n",
              "      <th>V3</th>\n",
              "      <th>V4</th>\n",
              "    </tr>\n",
              "  </thead>\n",
              "  <tbody>\n",
              "    <tr>\n",
              "      <th>Murder</th>\n",
              "      <td>0.535899</td>\n",
              "      <td>0.418181</td>\n",
              "      <td>-0.341233</td>\n",
              "      <td>0.649228</td>\n",
              "    </tr>\n",
              "    <tr>\n",
              "      <th>Assault</th>\n",
              "      <td>0.583184</td>\n",
              "      <td>0.187986</td>\n",
              "      <td>-0.268148</td>\n",
              "      <td>-0.743407</td>\n",
              "    </tr>\n",
              "    <tr>\n",
              "      <th>UrbanPop</th>\n",
              "      <td>0.278191</td>\n",
              "      <td>-0.872806</td>\n",
              "      <td>-0.378016</td>\n",
              "      <td>0.133878</td>\n",
              "    </tr>\n",
              "    <tr>\n",
              "      <th>Rape</th>\n",
              "      <td>0.543432</td>\n",
              "      <td>-0.167319</td>\n",
              "      <td>0.817778</td>\n",
              "      <td>0.089024</td>\n",
              "    </tr>\n",
              "  </tbody>\n",
              "</table>\n",
              "</div>"
            ],
            "text/plain": [
              "                V1        V2        V3        V4\n",
              "Murder    0.535899  0.418181 -0.341233  0.649228\n",
              "Assault   0.583184  0.187986 -0.268148 -0.743407\n",
              "UrbanPop  0.278191 -0.872806 -0.378016  0.133878\n",
              "Rape      0.543432 -0.167319  0.817778  0.089024"
            ]
          },
          "metadata": {},
          "execution_count": 6
        }
      ]
    },
    {
      "cell_type": "code",
      "source": [
        "# Fit the PCA model and transform X to get the principal components\n",
        "pca = PCA()\n",
        "df_plot = pd.DataFrame(pca.fit_transform(X), columns=['PC1', 'PC2', 'PC3', 'PC4'], index=X.index)\n",
        "df_plot.head()"
      ],
      "metadata": {
        "colab": {
          "base_uri": "https://localhost:8080/",
          "height": 206
        },
        "id": "wOTVagjz_m0_",
        "outputId": "114be038-ef0f-4374-e05b-22c0b6b24149"
      },
      "execution_count": null,
      "outputs": [
        {
          "output_type": "execute_result",
          "data": {
            "text/html": [
              "<div>\n",
              "<style scoped>\n",
              "    .dataframe tbody tr th:only-of-type {\n",
              "        vertical-align: middle;\n",
              "    }\n",
              "\n",
              "    .dataframe tbody tr th {\n",
              "        vertical-align: top;\n",
              "    }\n",
              "\n",
              "    .dataframe thead th {\n",
              "        text-align: right;\n",
              "    }\n",
              "</style>\n",
              "<table border=\"1\" class=\"dataframe\">\n",
              "  <thead>\n",
              "    <tr style=\"text-align: right;\">\n",
              "      <th></th>\n",
              "      <th>PC1</th>\n",
              "      <th>PC2</th>\n",
              "      <th>PC3</th>\n",
              "      <th>PC4</th>\n",
              "    </tr>\n",
              "  </thead>\n",
              "  <tbody>\n",
              "    <tr>\n",
              "      <th>Alabama</th>\n",
              "      <td>0.985566</td>\n",
              "      <td>1.133392</td>\n",
              "      <td>-0.444269</td>\n",
              "      <td>0.156267</td>\n",
              "    </tr>\n",
              "    <tr>\n",
              "      <th>Alaska</th>\n",
              "      <td>1.950138</td>\n",
              "      <td>1.073213</td>\n",
              "      <td>2.040003</td>\n",
              "      <td>-0.438583</td>\n",
              "    </tr>\n",
              "    <tr>\n",
              "      <th>Arizona</th>\n",
              "      <td>1.763164</td>\n",
              "      <td>-0.745957</td>\n",
              "      <td>0.054781</td>\n",
              "      <td>-0.834653</td>\n",
              "    </tr>\n",
              "    <tr>\n",
              "      <th>Arkansas</th>\n",
              "      <td>-0.141420</td>\n",
              "      <td>1.119797</td>\n",
              "      <td>0.114574</td>\n",
              "      <td>-0.182811</td>\n",
              "    </tr>\n",
              "    <tr>\n",
              "      <th>California</th>\n",
              "      <td>2.523980</td>\n",
              "      <td>-1.542934</td>\n",
              "      <td>0.598557</td>\n",
              "      <td>-0.341996</td>\n",
              "    </tr>\n",
              "  </tbody>\n",
              "</table>\n",
              "</div>"
            ],
            "text/plain": [
              "                 PC1       PC2       PC3       PC4\n",
              "Alabama     0.985566  1.133392 -0.444269  0.156267\n",
              "Alaska      1.950138  1.073213  2.040003 -0.438583\n",
              "Arizona     1.763164 -0.745957  0.054781 -0.834653\n",
              "Arkansas   -0.141420  1.119797  0.114574 -0.182811\n",
              "California  2.523980 -1.542934  0.598557 -0.341996"
            ]
          },
          "metadata": {},
          "execution_count": 11
        }
      ]
    },
    {
      "cell_type": "code",
      "source": [
        "fig , ax1 = plt.subplots(figsize=(9,7))\n",
        "ax1.set_xlim(-3.5,3.5)\n",
        "ax1.set_ylim(-3.5,3.5)\n",
        "\n",
        "# Plot Principal Components 1 and 2\n",
        "for i in df_plot.index:\n",
        "    ax1.annotate(i, (-df_plot.PC1.loc[i], -df_plot.PC2.loc[i]), ha='center')\n",
        "    \n",
        "# Plot reference lines\n",
        "ax1.hlines(0,-3.5,3.5, linestyles='dotted', colors='grey')\n",
        "ax1.vlines(0,-3.5,3.5, linestyles='dotted', colors='grey')\n",
        "ax1.set_xlabel('First Principal Component')\n",
        "ax1.set_ylabel('Second Principal Component')\n",
        "\n",
        "# Plot Principal Component loading vectors, using a second y-axis.\n",
        "ax2 = ax1.twinx().twiny()\n",
        "\n",
        "ax2.set_ylim(-1,1)\n",
        "ax2.set_xlim(-1,1)\n",
        "ax2.set_xlabel('Principal Component loading vectors', color='red')\n",
        "\n",
        "# Plot labels for vectors. Variable 'a' is a small offset parameter to separate arrow tip and text.\n",
        "a = 1.07\n",
        "for i in pca_loadings[['V1', 'V2']].index:\n",
        "    ax2.annotate(i, (-pca_loadings.V1.loc[i]*a, -pca_loadings.V2.loc[i]*a), color='red')\n",
        "    \n",
        "# Plot vectors\n",
        "ax2.arrow(0,0,-pca_loadings.V1[0], -pca_loadings.V2[0])\n",
        "ax2.arrow(0,0,-pca_loadings.V1[1], -pca_loadings.V2[1])\n",
        "ax2.arrow(0,0,-pca_loadings.V1[2], -pca_loadings.V2[2])\n",
        "ax2.arrow(0,0,-pca_loadings.V1[3], -pca_loadings.V2[3])"
      ],
      "metadata": {
        "colab": {
          "base_uri": "https://localhost:8080/",
          "height": 488
        },
        "id": "pt4_do93_4CA",
        "outputId": "5b00f818-f5bf-46e4-dfaf-b242845ae30d"
      },
      "execution_count": null,
      "outputs": [
        {
          "output_type": "execute_result",
          "data": {
            "text/plain": [
              "<matplotlib.patches.FancyArrow at 0x7f3c692d6ed0>"
            ]
          },
          "metadata": {},
          "execution_count": 8
        },
        {
          "output_type": "display_data",
          "data": {
            "image/png": "[encoded data removed]",
            "text/plain": [
              "<Figure size 648x504 with 3 Axes>"
            ]
          },
          "metadata": {
            "needs_background": "light"
          }
        }
      ]
    },
    {
      "cell_type": "code",
      "source": [
        "pca.explained_variance_"
      ],
      "metadata": {
        "colab": {
          "base_uri": "https://localhost:8080/"
        },
        "id": "xRHiWC7tB2E6",
        "outputId": "f581ec5c-2512-4f17-e862-9d83e3791c14"
      },
      "execution_count": null,
      "outputs": [
        {
          "output_type": "execute_result",
          "data": {
            "text/plain": [
              "array([2.53085875, 1.00996444, 0.36383998, 0.17696948])"
            ]
          },
          "metadata": {},
          "execution_count": 9
        }
      ]
    },
    {
      "cell_type": "code",
      "source": [
        "pca.explained_variance_ratio_"
      ],
      "metadata": {
        "colab": {
          "base_uri": "https://localhost:8080/"
        },
        "id": "g641nV46CxHt",
        "outputId": "c2bafb3c-85fb-46d0-855b-7d968ed572f1"
      },
      "execution_count": null,
      "outputs": [
        {
          "output_type": "execute_result",
          "data": {
            "text/plain": [
              "array([0.62006039, 0.24744129, 0.0891408 , 0.04335752])"
            ]
          },
          "metadata": {},
          "execution_count": 10
        }
      ]
    },
    {
      "cell_type": "code",
      "source": [
        "plt.figure(figsize=(7,5))\n",
        "plt.plot([1,2,3,4], pca.explained_variance_ratio_, '-o')\n",
        "plt.ylabel('Proportion of Variance Explained')\n",
        "plt.xlabel('Principal Component')\n",
        "plt.xlim(0.75,4.25)\n",
        "plt.ylim(0,1.05)\n",
        "plt.xticks([1,2,3,4])"
      ],
      "metadata": {
        "colab": {
          "base_uri": "https://localhost:8080/",
          "height": 421
        },
        "id": "4Ny1U33MCynB",
        "outputId": "2191109a-08f5-48c2-dbfd-246f7bffe1e2"
      },
      "execution_count": null,
      "outputs": [
        {
          "output_type": "execute_result",
          "data": {
            "text/plain": [
              "([<matplotlib.axis.XTick at 0x7f3c60517210>,\n",
              "  <matplotlib.axis.XTick at 0x7f3c60517950>,\n",
              "  <matplotlib.axis.XTick at 0x7f3c60a09910>,\n",
              "  <matplotlib.axis.XTick at 0x7f3c5ec18450>],\n",
              " <a list of 4 Text major ticklabel objects>)"
            ]
          },
          "metadata": {},
          "execution_count": 12
        },
        {
          "output_type": "display_data",
          "data": {
            "image/png": "[encoded data removed]",
            "text/plain": [
              "<Figure size 504x360 with 1 Axes>"
            ]
          },
          "metadata": {
            "needs_background": "light"
          }
        }
      ]
    },
    {
      "cell_type": "code",
      "source": [
        "plt.figure(figsize=(7,5))\n",
        "plt.plot([1,2,3,4], np.cumsum(pca.explained_variance_ratio_), '-s')\n",
        "plt.ylabel('Proportion of Variance Explained')\n",
        "plt.xlabel('Principal Component')\n",
        "plt.xlim(0.75,4.25)\n",
        "plt.ylim(0,1.05)\n",
        "plt.xticks([1,2,3,4])"
      ],
      "metadata": {
        "colab": {
          "base_uri": "https://localhost:8080/",
          "height": 421
        },
        "id": "e1h0aG0ZC7M1",
        "outputId": "b7a35ae6-2352-46ea-a6e6-d841a4372482"
      },
      "execution_count": null,
      "outputs": [
        {
          "output_type": "execute_result",
          "data": {
            "text/plain": [
              "([<matplotlib.axis.XTick at 0x7f3c5ec443d0>,\n",
              "  <matplotlib.axis.XTick at 0x7f3c5ec44b90>,\n",
              "  <matplotlib.axis.XTick at 0x7f3c5ec44190>,\n",
              "  <matplotlib.axis.XTick at 0x7f3c5ebec1d0>],\n",
              " <a list of 4 Text major ticklabel objects>)"
            ]
          },
          "metadata": {},
          "execution_count": 13
        },
        {
          "output_type": "display_data",
          "data": {
            "image/png": "[encoded data removed]",
            "text/plain": [
              "<Figure size 504x360 with 1 Axes>"
            ]
          },
          "metadata": {
            "needs_background": "light"
          }
        }
      ]
    },
    {
      "cell_type": "code",
      "source": [
        "df2 = pd.read_csv('nci60.csv').drop('Unnamed: 0', axis=1)\n",
        "df2.columns = np.arange(df2.columns.size)\n",
        "df2.info()"
      ],
      "metadata": {
        "colab": {
          "base_uri": "https://localhost:8080/"
        },
        "id": "AM9VoPkMC8uJ",
        "outputId": "ae142783-7198-44b7-88fa-197ae139ee9b"
      },
      "execution_count": null,
      "outputs": [
        {
          "output_type": "stream",
          "name": "stdout",
          "text": [
            "<class 'pandas.core.frame.DataFrame'>\n",
            "RangeIndex: 64 entries, 0 to 63\n",
            "Columns: 6830 entries, 0 to 6829\n",
            "dtypes: float64(6830)\n",
            "memory usage: 3.3 MB\n"
          ]
        }
      ]
    },
    {
      "cell_type": "code",
      "source": [
        "# Read in the labels to check our work later\n",
        "y = pd.read_csv('nci60_y.csv', usecols=[1], skiprows=1, names=['type'])"
      ],
      "metadata": {
        "id": "znNdo_zwC957"
      },
      "execution_count": null,
      "outputs": []
    },
    {
      "cell_type": "code",
      "source": [
        "# Scale the data\n",
        "X = pd.DataFrame(scale(df2))\n",
        "X.shape\n",
        "\n",
        "# Fit the PCA model and transform X to get the principal components\n",
        "pca2 = PCA()\n",
        "df2_plot = pd.DataFrame(pca2.fit_transform(X))"
      ],
      "metadata": {
        "id": "gRPczodkC_In"
      },
      "execution_count": null,
      "outputs": []
    },
    {
      "cell_type": "code",
      "source": [
        "fig, (ax1, ax2) = plt.subplots(1,2, figsize=(15,6))\n",
        "\n",
        "color_idx = pd.factorize(y.type)[0]\n",
        "cmap = mpl.cm.hsv\n",
        "\n",
        "# Left plot\n",
        "ax1.scatter(df2_plot.iloc[:,0], df2_plot.iloc[:,1], c=color_idx, cmap=cmap, alpha=0.5, s=50)\n",
        "ax1.set_ylabel('Principal Component 2')\n",
        "\n",
        "# Right plot\n",
        "ax2.scatter(df2_plot.iloc[:,0], df2_plot.iloc[:,2], c=color_idx, cmap=cmap, alpha=0.5, s=50)\n",
        "ax2.set_ylabel('Principal Component 3')\n",
        "\n",
        "# Custom legend for the classes (y) since we do not create scatter plots per class (which could have their own labels).\n",
        "handles = []\n",
        "labels = pd.factorize(y.type.unique())\n",
        "norm = mpl.colors.Normalize(vmin=0.0, vmax=14.0)\n",
        "\n",
        "for i, v in zip(labels[0], labels[1]):\n",
        "    handles.append(mpl.patches.Patch(color=cmap(norm(i)), label=v, alpha=0.5))\n",
        "    \n",
        "ax2.legend(handles=handles, bbox_to_anchor=(1.05, 1), loc=2, borderaxespad=0.)\n",
        "\n",
        "# xlabel for both plots\n",
        "for ax in fig.axes:\n",
        "    ax.set_xlabel('Principal Component 1')"
      ],
      "metadata": {
        "colab": {
          "base_uri": "https://localhost:8080/",
          "height": 388
        },
        "id": "eOllRR8uDAna",
        "outputId": "b393a040-e7b1-44a8-bd88-1a5cc3c94aca"
      },
      "execution_count": null,
      "outputs": [
        {
          "output_type": "display_data",
          "data": {
            "image/png": "[encoded data removed]",
            "text/plain": [
              "<Figure size 1080x432 with 2 Axes>"
            ]
          },
          "metadata": {
            "needs_background": "light"
          }
        }
      ]
    },
    {
      "cell_type": "code",
      "source": [
        "pd.DataFrame([df2_plot.iloc[:,:5].std(axis=0, ddof=0).to_numpy(),\n",
        "              pca2.explained_variance_ratio_[:5],\n",
        "              np.cumsum(pca2.explained_variance_ratio_[:5])],\n",
        "              index=['Standard Deviation', 'Proportion of Variance', 'Cumulative Proportion'],\n",
        "              columns=['PC1', 'PC2', 'PC3', 'PC4', 'PC5'])"
      ],
      "metadata": {
        "colab": {
          "base_uri": "https://localhost:8080/",
          "height": 143
        },
        "id": "2PoRLesgDCJD",
        "outputId": "e244e9e7-f0ff-4b41-c26b-691dc1a000c0"
      },
      "execution_count": null,
      "outputs": [
        {
          "output_type": "execute_result",
          "data": {
            "text/html": [
              "<div>\n",
              "<style scoped>\n",
              "    .dataframe tbody tr th:only-of-type {\n",
              "        vertical-align: middle;\n",
              "    }\n",
              "\n",
              "    .dataframe tbody tr th {\n",
              "        vertical-align: top;\n",
              "    }\n",
              "\n",
              "    .dataframe thead th {\n",
              "        text-align: right;\n",
              "    }\n",
              "</style>\n",
              "<table border=\"1\" class=\"dataframe\">\n",
              "  <thead>\n",
              "    <tr style=\"text-align: right;\">\n",
              "      <th></th>\n",
              "      <th>PC1</th>\n",
              "      <th>PC2</th>\n",
              "      <th>PC3</th>\n",
              "      <th>PC4</th>\n",
              "      <th>PC5</th>\n",
              "    </tr>\n",
              "  </thead>\n",
              "  <tbody>\n",
              "    <tr>\n",
              "      <th>Standard Deviation</th>\n",
              "      <td>27.853469</td>\n",
              "      <td>21.481355</td>\n",
              "      <td>19.820465</td>\n",
              "      <td>17.032556</td>\n",
              "      <td>15.971807</td>\n",
              "    </tr>\n",
              "    <tr>\n",
              "      <th>Proportion of Variance</th>\n",
              "      <td>0.113589</td>\n",
              "      <td>0.067562</td>\n",
              "      <td>0.057518</td>\n",
              "      <td>0.042476</td>\n",
              "      <td>0.037350</td>\n",
              "    </tr>\n",
              "    <tr>\n",
              "      <th>Cumulative Proportion</th>\n",
              "      <td>0.113589</td>\n",
              "      <td>0.181151</td>\n",
              "      <td>0.238670</td>\n",
              "      <td>0.281145</td>\n",
              "      <td>0.318495</td>\n",
              "    </tr>\n",
              "  </tbody>\n",
              "</table>\n",
              "</div>"
            ],
            "text/plain": [
              "                              PC1        PC2        PC3        PC4        PC5\n",
              "Standard Deviation      27.853469  21.481355  19.820465  17.032556  15.971807\n",
              "Proportion of Variance   0.113589   0.067562   0.057518   0.042476   0.037350\n",
              "Cumulative Proportion    0.113589   0.181151   0.238670   0.281145   0.318495"
            ]
          },
          "metadata": {},
          "execution_count": 19
        }
      ]
    },
    {
      "cell_type": "code",
      "source": [
        "df2_plot.iloc[:,:10].var(axis=0, ddof=0).plot(kind='bar', rot=0)\n",
        "plt.ylabel('Variances')"
      ],
      "metadata": {
        "colab": {
          "base_uri": "https://localhost:8080/",
          "height": 282
        },
        "id": "05y0o3dhDD1q",
        "outputId": "7b6f92a8-477c-434b-f5e9-a891e341708e"
      },
      "execution_count": null,
      "outputs": [
        {
          "output_type": "execute_result",
          "data": {
            "text/plain": [
              "Text(0, 0.5, 'Variances')"
            ]
          },
          "metadata": {},
          "execution_count": 20
        },
        {
          "output_type": "display_data",
          "data": {
            "image/png": "[encoded data removed]",
            "text/plain": [
              "<Figure size 432x288 with 1 Axes>"
            ]
          },
          "metadata": {
            "needs_background": "light"
          }
        }
      ]
    },
    {
      "cell_type": "code",
      "source": [
        "fig , (ax1,ax2) = plt.subplots(1,2, figsize=(15,5))\n",
        "\n",
        "# Left plot\n",
        "ax1.plot(pca2.explained_variance_ratio_, '-o')\n",
        "ax1.set_ylabel('Proportion of Variance Explained')\n",
        "ax1.set_ylim(ymin=-0.01)\n",
        "\n",
        "# Right plot\n",
        "ax2.plot(np.cumsum(pca2.explained_variance_ratio_), '-ro')\n",
        "ax2.set_ylabel('Cumulative Proportion of Variance Explained')\n",
        "ax2.set_ylim(ymax=1.05)\n",
        "\n",
        "for ax in fig.axes:\n",
        "    ax.set_xlabel('Principal Component')\n",
        "    ax.set_xlim(-1,65)"
      ],
      "metadata": {
        "colab": {
          "base_uri": "https://localhost:8080/",
          "height": 334
        },
        "id": "TIi2U1u2DFEJ",
        "outputId": "ccf970b7-190b-400b-b559-8ce652a0548d"
      },
      "execution_count": null,
      "outputs": [
        {
          "output_type": "display_data",
          "data": {
            "image/png": "[encoded data removed]",
            "text/plain": [
              "<Figure size 1080x360 with 2 Axes>"
            ]
          },
          "metadata": {
            "needs_background": "light"
          }
        }
      ]
    },
    {
      "cell_type": "markdown",
      "source": [
        "## Task 1\n",
        "\n",
        "I chose the Iris dataset, because I've already had some knowledge about it"
      ],
      "metadata": {
        "id": "uodO5Kk1Dx51"
      }
    },
    {
      "cell_type": "code",
      "source": [
        "from sklearn import datasets\n",
        "\n",
        "iris = datasets.load_iris()\n",
        "names = iris.feature_names\n",
        "data = pd.DataFrame(iris.data, columns = names)\n",
        "y = pd.DataFrame(iris.target)"
      ],
      "metadata": {
        "id": "GHxEgR8CDGdj"
      },
      "execution_count": null,
      "outputs": []
    },
    {
      "cell_type": "code",
      "source": [
        "data.head()"
      ],
      "metadata": {
        "colab": {
          "base_uri": "https://localhost:8080/",
          "height": 206
        },
        "id": "vAEzOwu2EGvu",
        "outputId": "22e872a3-55c4-42b0-d7d5-73ccc71a3355"
      },
      "execution_count": null,
      "outputs": [
        {
          "output_type": "execute_result",
          "data": {
            "text/html": [
              "<div>\n",
              "<style scoped>\n",
              "    .dataframe tbody tr th:only-of-type {\n",
              "        vertical-align: middle;\n",
              "    }\n",
              "\n",
              "    .dataframe tbody tr th {\n",
              "        vertical-align: top;\n",
              "    }\n",
              "\n",
              "    .dataframe thead th {\n",
              "        text-align: right;\n",
              "    }\n",
              "</style>\n",
              "<table border=\"1\" class=\"dataframe\">\n",
              "  <thead>\n",
              "    <tr style=\"text-align: right;\">\n",
              "      <th></th>\n",
              "      <th>sepal length (cm)</th>\n",
              "      <th>sepal width (cm)</th>\n",
              "      <th>petal length (cm)</th>\n",
              "      <th>petal width (cm)</th>\n",
              "    </tr>\n",
              "  </thead>\n",
              "  <tbody>\n",
              "    <tr>\n",
              "      <th>0</th>\n",
              "      <td>5.1</td>\n",
              "      <td>3.5</td>\n",
              "      <td>1.4</td>\n",
              "      <td>0.2</td>\n",
              "    </tr>\n",
              "    <tr>\n",
              "      <th>1</th>\n",
              "      <td>4.9</td>\n",
              "      <td>3.0</td>\n",
              "      <td>1.4</td>\n",
              "      <td>0.2</td>\n",
              "    </tr>\n",
              "    <tr>\n",
              "      <th>2</th>\n",
              "      <td>4.7</td>\n",
              "      <td>3.2</td>\n",
              "      <td>1.3</td>\n",
              "      <td>0.2</td>\n",
              "    </tr>\n",
              "    <tr>\n",
              "      <th>3</th>\n",
              "      <td>4.6</td>\n",
              "      <td>3.1</td>\n",
              "      <td>1.5</td>\n",
              "      <td>0.2</td>\n",
              "    </tr>\n",
              "    <tr>\n",
              "      <th>4</th>\n",
              "      <td>5.0</td>\n",
              "      <td>3.6</td>\n",
              "      <td>1.4</td>\n",
              "      <td>0.2</td>\n",
              "    </tr>\n",
              "  </tbody>\n",
              "</table>\n",
              "</div>"
            ],
            "text/plain": [
              "   sepal length (cm)  sepal width (cm)  petal length (cm)  petal width (cm)\n",
              "0                5.1               3.5                1.4               0.2\n",
              "1                4.9               3.0                1.4               0.2\n",
              "2                4.7               3.2                1.3               0.2\n",
              "3                4.6               3.1                1.5               0.2\n",
              "4                5.0               3.6                1.4               0.2"
            ]
          },
          "metadata": {},
          "execution_count": 23
        }
      ]
    },
    {
      "cell_type": "code",
      "source": [
        "print(iris.DESCR)"
      ],
      "metadata": {
        "colab": {
          "base_uri": "https://localhost:8080/"
        },
        "id": "jUBFaynwEKFU",
        "outputId": "b3cd0f44-0a89-4323-fd00-5ad81cd40d7f"
      },
      "execution_count": null,
      "outputs": [
        {
          "output_type": "stream",
          "name": "stdout",
          "text": [
            ".. _iris_dataset:\n",
            "\n",
            "Iris plants dataset\n",
            "--------------------\n",
            "\n",
            "**Data Set Characteristics:**\n",
            "\n",
            "    :Number of Instances: 150 (50 in each of three classes)\n",
            "    :Number of Attributes: 4 numeric, predictive attributes and the class\n",
            "    :Attribute Information:\n",
            "        - sepal length in cm\n",
            "        - sepal width in cm\n",
            "        - petal length in cm\n",
            "        - petal width in cm\n",
            "        - class:\n",
            "                - Iris-Setosa\n",
            "                - Iris-Versicolour\n",
            "                - Iris-Virginica\n",
            "                \n",
            "    :Summary Statistics:\n",
            "\n",
            "    ============== ==== ==== ======= ===== ====================\n",
            "                    Min  Max   Mean    SD   Class Correlation\n",
            "    ============== ==== ==== ======= ===== ====================\n",
            "    sepal length:   4.3  7.9   5.84   0.83    0.7826\n",
            "    sepal width:    2.0  4.4   3.05   0.43   -0.4194\n",
            "    petal length:   1.0  6.9   3.76   1.76    0.9490  (high!)\n",
            "    petal width:    0.1  2.5   1.20   0.76    0.9565  (high!)\n",
            "    ============== ==== ==== ======= ===== ====================\n",
            "\n",
            "    :Missing Attribute Values: None\n",
            "    :Class Distribution: 33.3% for each of 3 classes.\n",
            "    :Creator: R.A. Fisher\n",
            "    :Donor: Michael Marshall (MARSHALL%PLU@io.arc.nasa.gov)\n",
            "    :Date: July, 1988\n",
            "\n",
            "The famous Iris database, first used by Sir R.A. Fisher. The dataset is taken\n",
            "from Fisher's paper. Note that it's the same as in R, but not as in the UCI\n",
            "Machine Learning Repository, which has two wrong data points.\n",
            "\n",
            "This is perhaps the best known database to be found in the\n",
            "pattern recognition literature.  Fisher's paper is a classic in the field and\n",
            "is referenced frequently to this day.  (See Duda & Hart, for example.)  The\n",
            "data set contains 3 classes of 50 instances each, where each class refers to a\n",
            "type of iris plant.  One class is linearly separable from the other 2; the\n",
            "latter are NOT linearly separable from each other.\n",
            "\n",
            ".. topic:: References\n",
            "\n",
            "   - Fisher, R.A. \"The use of multiple measurements in taxonomic problems\"\n",
            "     Annual Eugenics, 7, Part II, 179-188 (1936); also in \"Contributions to\n",
            "     Mathematical Statistics\" (John Wiley, NY, 1950).\n",
            "   - Duda, R.O., & Hart, P.E. (1973) Pattern Classification and Scene Analysis.\n",
            "     (Q327.D83) John Wiley & Sons.  ISBN 0-471-22361-1.  See page 218.\n",
            "   - Dasarathy, B.V. (1980) \"Nosing Around the Neighborhood: A New System\n",
            "     Structure and Classification Rule for Recognition in Partially Exposed\n",
            "     Environments\".  IEEE Transactions on Pattern Analysis and Machine\n",
            "     Intelligence, Vol. PAMI-2, No. 1, 67-71.\n",
            "   - Gates, G.W. (1972) \"The Reduced Nearest Neighbor Rule\".  IEEE Transactions\n",
            "     on Information Theory, May 1972, 431-433.\n",
            "   - See also: 1988 MLC Proceedings, 54-64.  Cheeseman et al\"s AUTOCLASS II\n",
            "     conceptual clustering system finds 3 classes in the data.\n",
            "   - Many, many more ...\n"
          ]
        }
      ]
    },
    {
      "cell_type": "code",
      "source": [
        "data.isnull().values.any()"
      ],
      "metadata": {
        "colab": {
          "base_uri": "https://localhost:8080/"
        },
        "id": "mss4LabeEKer",
        "outputId": "05e8ff00-2f20-4a63-a9a5-e22e5fefc40e"
      },
      "execution_count": null,
      "outputs": [
        {
          "output_type": "execute_result",
          "data": {
            "text/plain": [
              "False"
            ]
          },
          "metadata": {},
          "execution_count": 25
        }
      ]
    },
    {
      "cell_type": "code",
      "source": [
        "data.isna().values.any()"
      ],
      "metadata": {
        "colab": {
          "base_uri": "https://localhost:8080/"
        },
        "id": "OjZ5tLaOEND3",
        "outputId": "c56f7ded-0df6-4c5e-ec9f-9448e12427e0"
      },
      "execution_count": null,
      "outputs": [
        {
          "output_type": "execute_result",
          "data": {
            "text/plain": [
              "False"
            ]
          },
          "metadata": {},
          "execution_count": 26
        }
      ]
    },
    {
      "cell_type": "code",
      "source": [
        "data.replace([np.inf, -np.inf], np.nan)\n",
        "data.dropna()\n",
        "data.isnull().values.any()"
      ],
      "metadata": {
        "colab": {
          "base_uri": "https://localhost:8080/"
        },
        "id": "7Z5Mpb4WEOQ6",
        "outputId": "095d5b1e-0e6f-47aa-fadd-3202e3c060e3"
      },
      "execution_count": null,
      "outputs": [
        {
          "output_type": "execute_result",
          "data": {
            "text/plain": [
              "False"
            ]
          },
          "metadata": {},
          "execution_count": 27
        }
      ]
    },
    {
      "cell_type": "code",
      "source": [
        "data.mean()"
      ],
      "metadata": {
        "colab": {
          "base_uri": "https://localhost:8080/"
        },
        "id": "3bPnaGAjEPSa",
        "outputId": "ab9330a9-e7fa-4f9f-daf4-97e5c630f697"
      },
      "execution_count": null,
      "outputs": [
        {
          "output_type": "execute_result",
          "data": {
            "text/plain": [
              "sepal length (cm)    5.843333\n",
              "sepal width (cm)     3.057333\n",
              "petal length (cm)    3.758000\n",
              "petal width (cm)     1.199333\n",
              "dtype: float64"
            ]
          },
          "metadata": {},
          "execution_count": 28
        }
      ]
    },
    {
      "cell_type": "code",
      "source": [
        "data.var()"
      ],
      "metadata": {
        "colab": {
          "base_uri": "https://localhost:8080/"
        },
        "id": "YxMQ9rXTEQn9",
        "outputId": "fd576d00-6ac6-449c-8bc8-5e2dadbb7ce8"
      },
      "execution_count": null,
      "outputs": [
        {
          "output_type": "execute_result",
          "data": {
            "text/plain": [
              "sepal length (cm)    0.685694\n",
              "sepal width (cm)     0.189979\n",
              "petal length (cm)    3.116278\n",
              "petal width (cm)     0.581006\n",
              "dtype: float64"
            ]
          },
          "metadata": {},
          "execution_count": 30
        }
      ]
    },
    {
      "cell_type": "code",
      "source": [
        "data = pd.DataFrame(scale(data), index=data.index, columns=data.columns)"
      ],
      "metadata": {
        "id": "4CMkse2nESBY"
      },
      "execution_count": null,
      "outputs": []
    },
    {
      "cell_type": "code",
      "source": [
        "data.mean()"
      ],
      "metadata": {
        "colab": {
          "base_uri": "https://localhost:8080/"
        },
        "id": "ODPO_y6GETIJ",
        "outputId": "ef3a34fb-fde1-4803-99ac-0a938cbf0e6c"
      },
      "execution_count": null,
      "outputs": [
        {
          "output_type": "execute_result",
          "data": {
            "text/plain": [
              "sepal length (cm)   -1.690315e-15\n",
              "sepal width (cm)    -1.842970e-15\n",
              "petal length (cm)   -1.698641e-15\n",
              "petal width (cm)    -1.409243e-15\n",
              "dtype: float64"
            ]
          },
          "metadata": {},
          "execution_count": 32
        }
      ]
    },
    {
      "cell_type": "code",
      "source": [
        "data.var()"
      ],
      "metadata": {
        "colab": {
          "base_uri": "https://localhost:8080/"
        },
        "id": "eHhspR_UEUaX",
        "outputId": "01dee07c-f9da-4b0f-fe5b-fec38f7efc1c"
      },
      "execution_count": null,
      "outputs": [
        {
          "output_type": "execute_result",
          "data": {
            "text/plain": [
              "sepal length (cm)    1.006711\n",
              "sepal width (cm)     1.006711\n",
              "petal length (cm)    1.006711\n",
              "petal width (cm)     1.006711\n",
              "dtype: float64"
            ]
          },
          "metadata": {},
          "execution_count": 33
        }
      ]
    },
    {
      "cell_type": "code",
      "source": [
        "import sklearn\n",
        "X_train, X_test, y_train, y_test = sklearn.model_selection.train_test_split(data, y, test_size=0.25)"
      ],
      "metadata": {
        "id": "RPWP_IEzEaNI"
      },
      "execution_count": null,
      "outputs": []
    },
    {
      "cell_type": "code",
      "source": [
        "pca = PCA()\n",
        "pca.fit_transform(X_train, y_train)\n",
        "covariance = pca.get_covariance()\n",
        "covariance"
      ],
      "metadata": {
        "colab": {
          "base_uri": "https://localhost:8080/"
        },
        "id": "W2YOc0aPF5N9",
        "outputId": "8622fa78-2a60-4f99-fc27-974b3dbd14e9"
      },
      "execution_count": null,
      "outputs": [
        {
          "output_type": "execute_result",
          "data": {
            "text/plain": [
              "array([[ 0.96524309, -0.07570808,  0.81393474,  0.75758763],\n",
              "       [-0.07570808,  1.04112452, -0.40910003, -0.34696357],\n",
              "       [ 0.81393474, -0.40910003,  0.93067279,  0.89881983],\n",
              "       [ 0.75758763, -0.34696357,  0.89881983,  0.94222566]])"
            ]
          },
          "metadata": {},
          "execution_count": 35
        }
      ]
    },
    {
      "cell_type": "code",
      "source": [
        "eigvals, eigvecs = scipy.linalg.eig(covariance)\n",
        "eigvals"
      ],
      "metadata": {
        "colab": {
          "base_uri": "https://localhost:8080/"
        },
        "id": "-7lg2nprF608",
        "outputId": "ff8285d6-7b6d-457f-ff01-678dafaffbb9"
      },
      "execution_count": null,
      "outputs": [
        {
          "output_type": "execute_result",
          "data": {
            "text/plain": [
              "array([2.73430075+0.j, 0.97187753+0.j, 0.15443202+0.j, 0.01865576+0.j])"
            ]
          },
          "metadata": {},
          "execution_count": 36
        }
      ]
    },
    {
      "cell_type": "code",
      "source": [
        "eigvecs"
      ],
      "metadata": {
        "colab": {
          "base_uri": "https://localhost:8080/"
        },
        "id": "C_7BotxNF8gv",
        "outputId": "11855481-b425-4553-917d-ca4e3b052e57"
      },
      "execution_count": null,
      "outputs": [
        {
          "output_type": "execute_result",
          "data": {
            "text/plain": [
              "array([[ 0.51952275, -0.3903255 , -0.70975214,  0.2720184 ],\n",
              "       [-0.27853655, -0.9179252 ,  0.2518195 , -0.12813144],\n",
              "       [ 0.5785541 , -0.0275092 ,  0.13020379, -0.80471446],\n",
              "       [ 0.56372746, -0.06559406,  0.64489209,  0.51188178]])"
            ]
          },
          "metadata": {},
          "execution_count": 37
        }
      ]
    },
    {
      "cell_type": "code",
      "source": [
        "# sorted eigen vals\n",
        "eigvals_desc = list(reversed(sorted(eigvals)))\n",
        "eigvals_desc"
      ],
      "metadata": {
        "colab": {
          "base_uri": "https://localhost:8080/"
        },
        "id": "oN5kMdGxF-HN",
        "outputId": "2a9c3dca-28c8-418e-9984-1b990e17569d"
      },
      "execution_count": null,
      "outputs": [
        {
          "output_type": "execute_result",
          "data": {
            "text/plain": [
              "[(2.7343007497026544+0j),\n",
              " (0.9718775276177346+0j),\n",
              " (0.15443202049599075+0j),\n",
              " (0.018655760736618555+0j)]"
            ]
          },
          "metadata": {},
          "execution_count": 38
        }
      ]
    },
    {
      "cell_type": "code",
      "source": [
        "pca.explained_variance_ratio_"
      ],
      "metadata": {
        "colab": {
          "base_uri": "https://localhost:8080/"
        },
        "id": "TupA5kG9F_0J",
        "outputId": "3e8c8afd-4a23-42db-afd2-a241387c57ef"
      },
      "execution_count": null,
      "outputs": [
        {
          "output_type": "execute_result",
          "data": {
            "text/plain": [
              "array([0.70485002, 0.25053129, 0.0398096 , 0.0048091 ])"
            ]
          },
          "metadata": {},
          "execution_count": 39
        }
      ]
    },
    {
      "cell_type": "code",
      "source": [
        "plt.plot(pca.explained_variance_ratio_)"
      ],
      "metadata": {
        "colab": {
          "base_uri": "https://localhost:8080/",
          "height": 282
        },
        "id": "8pJhFCCOGBDq",
        "outputId": "778c4c16-4db3-4204-87e6-0926a026c996"
      },
      "execution_count": null,
      "outputs": [
        {
          "output_type": "execute_result",
          "data": {
            "text/plain": [
              "[<matplotlib.lines.Line2D at 0x7f3c5deeb790>]"
            ]
          },
          "metadata": {},
          "execution_count": 40
        },
        {
          "output_type": "display_data",
          "data": {
            "image/png": "[encoded data removed]",
            "text/plain": [
              "<Figure size 432x288 with 1 Axes>"
            ]
          },
          "metadata": {
            "needs_background": "light"
          }
        }
      ]
    },
    {
      "cell_type": "code",
      "source": [
        "pca =  PCA(svd_solver='full', n_components=0.95)\n",
        "principal_components = pca.fit_transform(X_train)\n",
        "principal_df = pd.DataFrame(data=principal_components)\n",
        "principal_df.head()"
      ],
      "metadata": {
        "colab": {
          "base_uri": "https://localhost:8080/",
          "height": 206
        },
        "id": "ZkMqXYKrGCj1",
        "outputId": "81b8d8bf-f4db-4812-b40d-b500bd73c13c"
      },
      "execution_count": null,
      "outputs": [
        {
          "output_type": "execute_result",
          "data": {
            "text/html": [
              "<div>\n",
              "<style scoped>\n",
              "    .dataframe tbody tr th:only-of-type {\n",
              "        vertical-align: middle;\n",
              "    }\n",
              "\n",
              "    .dataframe tbody tr th {\n",
              "        vertical-align: top;\n",
              "    }\n",
              "\n",
              "    .dataframe thead th {\n",
              "        text-align: right;\n",
              "    }\n",
              "</style>\n",
              "<table border=\"1\" class=\"dataframe\">\n",
              "  <thead>\n",
              "    <tr style=\"text-align: right;\">\n",
              "      <th></th>\n",
              "      <th>0</th>\n",
              "      <th>1</th>\n",
              "    </tr>\n",
              "  </thead>\n",
              "  <tbody>\n",
              "    <tr>\n",
              "      <th>0</th>\n",
              "      <td>1.720669</td>\n",
              "      <td>-0.117742</td>\n",
              "    </tr>\n",
              "    <tr>\n",
              "      <th>1</th>\n",
              "      <td>-2.393435</td>\n",
              "      <td>-1.082057</td>\n",
              "    </tr>\n",
              "    <tr>\n",
              "      <th>2</th>\n",
              "      <td>-2.122153</td>\n",
              "      <td>0.278625</td>\n",
              "    </tr>\n",
              "    <tr>\n",
              "      <th>3</th>\n",
              "      <td>-0.098353</td>\n",
              "      <td>-0.385143</td>\n",
              "    </tr>\n",
              "    <tr>\n",
              "      <th>4</th>\n",
              "      <td>2.131730</td>\n",
              "      <td>0.640620</td>\n",
              "    </tr>\n",
              "  </tbody>\n",
              "</table>\n",
              "</div>"
            ],
            "text/plain": [
              "          0         1\n",
              "0  1.720669 -0.117742\n",
              "1 -2.393435 -1.082057\n",
              "2 -2.122153  0.278625\n",
              "3 -0.098353 -0.385143\n",
              "4  2.131730  0.640620"
            ]
          },
          "metadata": {},
          "execution_count": 41
        }
      ]
    },
    {
      "cell_type": "code",
      "source": [
        ""
      ],
      "metadata": {
        "id": "gi_c_U0DGK1Q"
      },
      "execution_count": null,
      "outputs": []
    }
  ]
}